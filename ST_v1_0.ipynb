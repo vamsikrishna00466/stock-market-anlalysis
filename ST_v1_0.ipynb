{
  "nbformat": 4,
  "nbformat_minor": 0,
  "metadata": {
    "colab": {
      "name": "v1.0.ipynb",
      "provenance": [],
      "authorship_tag": "ABX9TyMOOgj3r70hslENp9l4Xf8S",
      "include_colab_link": true
    },
    "kernelspec": {
      "name": "python3",
      "display_name": "Python 3"
    }
  },
  "cells": [
    {
      "cell_type": "markdown",
      "metadata": {
        "id": "view-in-github",
        "colab_type": "text"
      },
      "source": [
        "<a href=\"https://colab.research.google.com/github/vamsikrishna00466/stock-market-anlalysis/blob/main/ST_v1_0.ipynb\" target=\"_parent\"><img src=\"https://colab.research.google.com/assets/colab-badge.svg\" alt=\"Open In Colab\"/></a>"
      ]
    },
    {
      "cell_type": "code",
      "metadata": {
        "id": "VA7AIjdIXXGZ"
      },
      "source": [
        "#change timeframe to 5minutes\r\n",
        "new_df = Change_Timeframe(df,\"5Min\")\r\n",
        "new_df[\"Date\"] = list(map(lambda x: str(x.date()),new_df.DateTime))\r\n",
        "new_df[\"Time\"] = list(map(lambda x: x.time(),new_df.DateTime))\r\n",
        "\r\n",
        "\r\n",
        "#change data type decimal to float\r\n",
        "new_df['Open_15'] = new_df['Open_15'].astype('float')\r\n",
        "new_df['High_15'] = new_df['High_15'].astype('float')\r\n",
        "new_df['Low_15'] = new_df['Low_15'].astype('float')\r\n",
        "new_df['Close_15'] = new_df['Close_15'].astype('float')\r\n",
        "\r\n",
        "#new_df.to_excel(\"sql_cash_data_5min.xlsx\")\r\n",
        "\r\n",
        "new_df = TrueRange(new_df)\r\n",
        "ATR_df = average_true_range(data = new_df, period=14, drop_tr=True, smoothing=\"SMA\")\r\n",
        "f=3\r\n",
        "n=15\r\n",
        "\r\n",
        "\r\n",
        "df = ATR_df.copy()\r\n",
        "#Calculation of SuperTrend\r\n",
        "df['Upper Basic']=(df['High_15']+df['Low_15'])/2+(f*df['atr_14_SMA'])\r\n",
        "df['Lower Basic']=(df['High_15']+df['Low_15'])/2-(f*df['atr_14_SMA'])\r\n",
        "df['Upper Band']=df['Upper Basic']\r\n",
        "df['Lower Band']=df['Lower Basic']\r\n",
        "for i in range(n,len(df)):\r\n",
        "  if df['Close_15'][i-1]<=df['Upper Band'][i-1]:\r\n",
        "    df['Upper Band'][i]=min(df['Upper Basic'][i],df['Upper Band'][i-1])\r\n",
        "  else:\r\n",
        "    df['Upper Band'][i]=df['Upper Basic'][i]    \r\n",
        "for i in range(n,len(df)):\r\n",
        "  if df['Close_15'][i-1]>=df['Lower Band'][i-1]:\r\n",
        "    df['Lower Band'][i]=max(df['Lower Basic'][i],df['Lower Band'][i-1])\r\n",
        "  else:\r\n",
        "    df['Lower Band'][i]=df['Lower Basic'][i]   \r\n",
        "    df['SuperTrend']=np.nan\r\n",
        "for i in df['SuperTrend']:\r\n",
        "  if df['Close_15'][n-1]<=df['Upper Band'][n-1]:\r\n",
        "    df['SuperTrend'][n-1]=df['Upper Band'][n-1]\r\n",
        "  elif df['Close_15'][n-1]>df['Upper Band'][i]:\r\n",
        "    df['SuperTrend'][n-1]=df['Lower Band'][n-1]\r\n",
        "for i in range(n,len(df)):\r\n",
        "  if df['SuperTrend'][i-1]==df['Upper Band'][i-1] and df['Close_15'][i]<=df['Upper Band'][i]:\r\n",
        "    df['SuperTrend'][i]=df['Upper Band'][i]\r\n",
        "  elif  df['SuperTrend'][i-1]==df['Upper Band'][i-1] and df['Close_15'][i]>=df['Upper Band'][i]:\r\n",
        "    df['SuperTrend'][i]=df['Lower Band'][i]\r\n",
        "  elif df['SuperTrend'][i-1]==df['Lower Band'][i-1] and df['Close_15'][i]>=df['Lower Band'][i]:\r\n",
        "    df['SuperTrend'][i]=df['Lower Band'][i]\r\n",
        "  elif df['SuperTrend'][i-1]==df['Lower Band'][i-1] and df['Close_15'][i]<=df['Lower Band'][i]:\r\n",
        "    df['SuperTrend'][i]=df['Upper Band'][i]\r\n",
        "  \r\n",
        "\r\n",
        "df = df[['DateTime', 'Date', 'Time', 'Open_15', 'High_15', 'Low_15', 'Close_15', 'SuperTrend']]\r\n",
        "df2 =df.copy()\r\n",
        "\r\n",
        "#donchan channel 50 candles period\r\n",
        "k = 50\r\n",
        "df2['upper_channel'] = np.nan\r\n",
        "df2['lower_channel'] = np.nan\r\n",
        "df2['middle_channel'] = np.nan\r\n",
        "\r\n",
        "df2['upper_channel'] = df2['High_15'].rolling(k).max().shift(k-50)\r\n",
        "df2['lower_channel'] = df2['Low_15'].rolling(k).min().shift(k-50)\r\n",
        "df2['middle_channel'] = ((df2['upper_channel'] + df2['lower_channel'])/2)\r\n",
        "\r\n",
        "#df2.to_excel(\"super_trend_v1_1.xlsx\")\r\n",
        "\r\n",
        "\r\n"
      ],
      "execution_count": null,
      "outputs": []
    },
    {
      "cell_type": "code",
      "metadata": {
        "id": "nwj3pA_PXZi2"
      },
      "source": [
        "df2 = df2.dropna(axis=0, inplace=False)\r\n",
        "df2=df2.reset_index()"
      ],
      "execution_count": null,
      "outputs": []
    },
    {
      "cell_type": "code",
      "metadata": {
        "id": "XP4aI_nlX1JP"
      },
      "source": [
        "Trade = pd.DataFrame(columns=[\"Date\",\"Trade Type\",\"Bought At\",\"Sold At\",\"BuyTime\",\"SellTime\",\"Exit Type\",\"Profit/Loss\"])\r\n",
        "n=0\r\n",
        "LongSale=False\r\n",
        "ShortSale=False\r\n",
        "StopLoss = 0\r\n",
        "StopLosses = []\r\n",
        "for i in range(n, len(df2)):\r\n",
        "  if (LongSale==False) & (ShortSale==False) & (df2.loc[i,\"Time\"]>=datetime.datetime.strptime('10:00:00', '%H:%M:%S').time()) & (df2.loc[i,\"Time\"]<datetime.datetime.strptime('15:00:00', '%H:%M:%S').time()):\r\n",
        "    if (df2['upper_channel'][i] <= df2['High_15'][i]):\r\n",
        "      BuyAt = df2.loc[i,\"upper_channel\"]\r\n",
        "      BuyTime = df2.loc[i,\"Time\"]\r\n",
        "      date = df2.loc[i,\"Date\"]\r\n",
        "      InitialStopLoss = StopLoss\r\n",
        "      LongSale=True\r\n",
        "      continue\r\n",
        "    elif (df2['lower_channel'][i] >= df2['Low_15'][i]):\r\n",
        "      SoldAt = df2.loc[i,\"lower_channel\"]\r\n",
        "      SellTime = df2.loc[i,\"Time\"]\r\n",
        "      date = df2.loc[i,\"Date\"]\r\n",
        "      InitialStopLoss = StopLoss\r\n",
        "      ShortSale=True\r\n",
        "      continue\r\n",
        "  #If Time==15:15:00, we would need to square off our trade:\r\n",
        "  if (df2.loc[i,\"Time\"]>=datetime.datetime.strptime('15:15:00', '%H:%M:%S').time()):\r\n",
        "    if (LongSale==True):\r\n",
        "      SoldAt = df2.loc[i,\"Close_15\"]\r\n",
        "      SellTime = df2.loc[i,\"Time\"]\r\n",
        "      date = df2.loc[i,\"Date\"]\r\n",
        "      LongSale = False\r\n",
        "      StopLosses = []\r\n",
        "      Trade = Trade.append({\"Date\":df2.loc[i,\"Date\"],\r\n",
        "                            \"Trade Type\":\"Long Sale\",\r\n",
        "                            \"Bought At\":BuyAt,\r\n",
        "                            \"Sold At\":SoldAt,\r\n",
        "                            \"BuyTime\":BuyTime,\r\n",
        "                            \"SellTime\":SellTime,\r\n",
        "                            \"Exit Type\":\"15:15:00 Exit\",\r\n",
        "                            \"Profit/Loss\":(SoldAt-BuyAt)},\r\n",
        "                           ignore_index=True)\r\n",
        "      continue\r\n",
        "    #If we have made a Short Sale, we will square it off:\r\n",
        "    elif (ShortSale==True):\r\n",
        "      BuyAt = df2.loc[i,\"Close_15\"]\r\n",
        "      BuyTime = df2.loc[i,\"Time\"]\r\n",
        "      date = df2.loc[i,\"Date\"]\r\n",
        "      ShortSale = False\r\n",
        "      StopLosses = []\r\n",
        "      Trade = Trade.append({\"Date\":df2.loc[i,\"Date\"],\r\n",
        "                            \"Trade Type\":\"Short Sale\",\r\n",
        "                            \"Bought At\":BuyAt,\r\n",
        "                            \"Sold At\":SoldAt,\r\n",
        "                            \"BuyTime\":BuyTime,\r\n",
        "                            \"SellTime\":SellTime,\r\n",
        "                            \"Exit Type\":\"15:15:00 Exit\",\r\n",
        "                            \"Profit/Loss\":(SoldAt-BuyAt)},\r\n",
        "                           ignore_index=True)\r\n",
        "      continue\r\n",
        "  #If we have made a Long Sale, and the current closing price hits StopLoss, Square it off\r\n",
        "  if (LongSale==True) & (df2.loc[i,\"Low_15\"]<=df2.loc[i,\"SuperTrend\"]):\r\n",
        "    SoldAt = df2.loc[i,\"SuperTrend\"]\r\n",
        "    SellTime = df2.loc[i,\"Time\"]\r\n",
        "    date = df2.loc[i,\"Date\"]\r\n",
        "    LongSale = False\r\n",
        "    StopLosses = []\r\n",
        "    Trade = Trade.append({\"Date\":df2.loc[i,\"Date\"],\r\n",
        "                          \"Trade Type\":\"Long Sale\",\r\n",
        "                          \"Bought At\":BuyAt,\r\n",
        "                          \"Sold At\":SoldAt,\r\n",
        "                          \"BuyTime\":BuyTime,\r\n",
        "                          \"SellTime\":SellTime,\r\n",
        "                          \"Exit Type\":\"StopLoss Triggered\",\r\n",
        "                          \"Profit/Loss\":(SoldAt-BuyAt)},\r\n",
        "                          ignore_index=True)\r\n",
        "    continue\r\n",
        "\r\n",
        "    #If we have made a Short Sale, and the current closing price hits StopLoss, Square it off\r\n",
        "  elif (ShortSale==True) & (df2.loc[i,\"High_15\"]>=df2.loc[i,\"SuperTrend\"]):\r\n",
        "      BuyAt = df2.loc[i,\"SuperTrend\"]\r\n",
        "      BuyTime = df2.loc[i,\"Time\"]\r\n",
        "      date = df2.loc[i,\"Date\"]\r\n",
        "      ShortSale = False\r\n",
        "      StopLosses = []\r\n",
        "      Trade = Trade.append({\"Date\":df2.loc[i,\"Date\"],\r\n",
        "                            \"Trade Type\":\"Short Sale\",\r\n",
        "                            \"Bought At\":BuyAt,\r\n",
        "                            \"Sold At\":SoldAt,\r\n",
        "                            \"BuyTime\":BuyTime,\r\n",
        "                            \"SellTime\":SellTime,\r\n",
        "                            \"Exit Type\":\"StopLoss Triggered\",\r\n",
        "                            \"Profit/Loss\":(SoldAt-BuyAt)},\r\n",
        "                            ignore_index=True)\r\n",
        "      \r\n",
        "#Trade.to_excel(\"test_ works1'.xlsx\")\r\n"
      ],
      "execution_count": null,
      "outputs": []
    },
    {
      "cell_type": "code",
      "metadata": {
        "id": "c1UBI6L9kKIX"
      },
      "source": [
        ""
      ],
      "execution_count": null,
      "outputs": []
    },
    {
      "cell_type": "code",
      "metadata": {
        "id": "CM46hauQjbrT"
      },
      "source": [
        "#Trade.to_excel(\"trade1.0'.xlsx\")\r\n",
        "#df2.to_excel(\"data.1.0'.xlsx\")\r\n",
        "\r\n"
      ],
      "execution_count": null,
      "outputs": []
    },
    {
      "cell_type": "code",
      "metadata": {
        "id": "LsLZh6EUdSSn"
      },
      "source": [
        "df = Trade.copy()\r\n",
        "\r\n",
        "df=df[['Date' ,'Trade Type', 'Bought At', 'Sold At', 'BuyTime', 'SellTime',  'Profit/Loss']]\r\n",
        "\r\n",
        "#add time\r\n",
        "df.loc[df['Trade Type'] == 'Long Sale', 'Entry Date Time'] = df['Date'].astype(str)+' '+df['BuyTime'].astype(str)\r\n",
        "df.loc[df['Trade Type'] == 'Short Sale', 'Entry Date Time'] = df['Date'].astype(str)+' '+df['SellTime'].astype(str)\r\n",
        "df.loc[df['Trade Type'] == 'Long Sale', 'Ex. Date Time'] = df['Date'].astype(str)+' '+df['SellTime'].astype(str)\r\n",
        "df.loc[df['Trade Type'] == 'Short Sale', 'Ex. Date Time'] = df['Date'].astype(str)+' '+df['BuyTime'].astype(str)\r\n",
        "\r\n",
        "#entry exit\r\n",
        "df.loc[df['Trade Type'] == 'Long Sale', 'EntryPrice'] = df['Bought At']\r\n",
        "df.loc[df['Trade Type'] == 'Short Sale', 'EntryPrice'] = df['Sold At']\r\n",
        "df.loc[df['Trade Type'] == 'Long Sale', 'Exit Price'] = df['Sold At']\r\n",
        "df.loc[df['Trade Type'] == 'Short Sale', 'Exit Price'] = df['Bought At']\r\n",
        "\r\n",
        "\r\n",
        "#change Trade type column name to trade\r\n",
        "df.loc[df['Trade Type'] == 'Long Sale', 'Trade'] = 'Long'\r\n",
        "df.loc[df['Trade Type'] == 'Short Sale', 'Trade'] = 'Short'\r\n",
        "df=df[['Date', 'Trade', 'Entry Date Time', 'Ex. Date Time', 'EntryPrice', 'Exit Price', 'Profit/Loss']]\r\n",
        "df[\"Year-Month\"] = list(map(lambda x: x[:7],df[\"Date\"]))\r\n",
        "\r\n",
        "#save file to xlsx\r\n",
        "#df.to_excel(\"sample_output.xlsx\")\r\n",
        "\r\n",
        "\r\n",
        "\r\n",
        "df['year'] = pd.DatetimeIndex(df['Year-Month']).year\r\n",
        "df['month']=pd.DatetimeIndex(df['Year-Month']).month\r\n",
        "\r\n",
        "\r\n",
        "mresult = pd.DataFrame(columns = ['year','month','Profit/Loss'])\r\n",
        "i = 0\r\n",
        "j = -1\r\n",
        "size = df.shape[0]\r\n",
        "year = (df['year'][i])\r\n",
        "month = (df['month'][i])\r\n",
        "while(i<size):\r\n",
        "    total = 0\r\n",
        "    while (i<size) and (df['month'][i]) == month:\r\n",
        "        total = total + df['Profit/Loss'][i]\r\n",
        "        i +=1\r\n",
        "    j += 1\r\n",
        "    mresult.loc[j] = [year,month,total]\r\n",
        "    month= month +1\r\n",
        "    if (month == 13):\r\n",
        "        year = year + 1 \r\n",
        "        month = 1\r\n",
        "\r\n",
        "\r\n",
        "\r\n",
        "yresult = pd.DataFrame(columns = ['year','Profit/Loss'])\r\n",
        "i = 0\r\n",
        "j = -1\r\n",
        "size = mresult.shape[0]\r\n",
        "year = (mresult['year'][i])\r\n",
        "while(i<size):\r\n",
        "    total = 0\r\n",
        "    while (i<size) and (mresult['year'][i]) == year:\r\n",
        "        total = total + mresult['Profit/Loss'][i]\r\n",
        "        i +=1\r\n",
        "    j += 1\r\n",
        "    yresult.loc[j] = [year,total]\r\n",
        "    year = year + 1"
      ],
      "execution_count": null,
      "outputs": []
    },
    {
      "cell_type": "code",
      "metadata": {
        "id": "z2XnhD7Ak9A8"
      },
      "source": [
        ""
      ],
      "execution_count": null,
      "outputs": []
    },
    {
      "cell_type": "code",
      "metadata": {
        "id": "bS4EarcOjyqq"
      },
      "source": [
        "#yresult.to_excel(\"yresult.1.0'.xlsx\")\r\n",
        "#mresult.to_excel(\"mresult.1.0'.xlsx\")\r\n",
        "#df.to_excel(\"raw_result.1.0'.xlsx\")\r\n",
        "\r\n"
      ],
      "execution_count": null,
      "outputs": []
    },
    {
      "cell_type": "code",
      "metadata": {
        "id": "S42yLO5ak1pX"
      },
      "source": [
        ""
      ],
      "execution_count": null,
      "outputs": []
    }
  ]
}
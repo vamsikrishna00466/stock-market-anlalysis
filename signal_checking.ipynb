{
  "nbformat": 4,
  "nbformat_minor": 0,
  "metadata": {
    "colab": {
      "name": "signal checking.ipynb",
      "provenance": [],
      "collapsed_sections": [],
      "authorship_tag": "ABX9TyMwG33a0k2mam6RwyM0IVTn",
      "include_colab_link": true
    },
    "kernelspec": {
      "name": "python3",
      "display_name": "Python 3"
    }
  },
  "cells": [
    {
      "cell_type": "markdown",
      "metadata": {
        "id": "view-in-github",
        "colab_type": "text"
      },
      "source": [
        "<a href=\"https://colab.research.google.com/github/vamsikrishna00466/stock-market-anlalysis/blob/main/signal_checking.ipynb\" target=\"_parent\"><img src=\"https://colab.research.google.com/assets/colab-badge.svg\" alt=\"Open In Colab\"/></a>"
      ]
    },
    {
      "cell_type": "code",
      "metadata": {
        "colab": {
          "base_uri": "https://localhost:8080/"
        },
        "id": "xptgrJ6NCyJj",
        "outputId": "f045dcd5-0ce2-4102-9442-f292108c966c"
      },
      "source": [
        "pip install mysql-connector-python-rf"
      ],
      "execution_count": 1,
      "outputs": [
        {
          "output_type": "stream",
          "text": [
            "Collecting mysql-connector-python-rf\n",
            "\u001b[?25l  Downloading https://files.pythonhosted.org/packages/21/79/2ff01ab7aa08db3a16b70b990c579c1024c6b2a734263cc7513a758867de/mysql-connector-python-rf-2.2.2.tar.gz (11.9MB)\n",
            "\u001b[K     |████████████████████████████████| 11.9MB 7.4MB/s \n",
            "\u001b[?25hBuilding wheels for collected packages: mysql-connector-python-rf\n",
            "  Building wheel for mysql-connector-python-rf (setup.py) ... \u001b[?25l\u001b[?25hdone\n",
            "  Created wheel for mysql-connector-python-rf: filename=mysql_connector_python_rf-2.2.2-cp37-cp37m-linux_x86_64.whl size=249456 sha256=89f959a7a6139618f195225fd13d38ce318c225c25a887c6689b4b35d90db4e0\n",
            "  Stored in directory: /root/.cache/pip/wheels/87/58/fb/d95c84fad7e1bebfed324c13e107ebb08e1997c9226532859a\n",
            "Successfully built mysql-connector-python-rf\n",
            "Installing collected packages: mysql-connector-python-rf\n",
            "Successfully installed mysql-connector-python-rf-2.2.2\n"
          ],
          "name": "stdout"
        }
      ]
    },
    {
      "cell_type": "code",
      "metadata": {
        "id": "faeR8op1CzHv"
      },
      "source": [
        "#importing relevant libraries\r\n",
        "import os\r\n",
        "import pandas as pd\r\n",
        "import numpy as np\r\n",
        "import datetime\r\n",
        "from matplotlib import pyplot as plt\r\n",
        "import operator\r\n",
        "import decimal\r\n",
        "import time\r\n",
        "import mysql.connector as mysql\r\n",
        "from math import floor\r\n",
        "import itertools\r\n",
        "import warnings\r\n",
        "warnings.filterwarnings('ignore')"
      ],
      "execution_count": 2,
      "outputs": []
    },
    {
      "cell_type": "code",
      "metadata": {
        "colab": {
          "base_uri": "https://localhost:8080/",
          "height": 204
        },
        "id": "lFopzoCFSXJS",
        "outputId": "528020ea-17b5-4e57-e207-09644703e060"
      },
      "source": [
        "df3.head()"
      ],
      "execution_count": 87,
      "outputs": [
        {
          "output_type": "execute_result",
          "data": {
            "text/html": [
              "<div>\n",
              "<style scoped>\n",
              "    .dataframe tbody tr th:only-of-type {\n",
              "        vertical-align: middle;\n",
              "    }\n",
              "\n",
              "    .dataframe tbody tr th {\n",
              "        vertical-align: top;\n",
              "    }\n",
              "\n",
              "    .dataframe thead th {\n",
              "        text-align: right;\n",
              "    }\n",
              "</style>\n",
              "<table border=\"1\" class=\"dataframe\">\n",
              "  <thead>\n",
              "    <tr style=\"text-align: right;\">\n",
              "      <th></th>\n",
              "      <th>index</th>\n",
              "      <th>DateTime</th>\n",
              "      <th>Date</th>\n",
              "      <th>Time</th>\n",
              "      <th>Open_15</th>\n",
              "      <th>High_15</th>\n",
              "      <th>Low_15</th>\n",
              "      <th>Close_15</th>\n",
              "      <th>SuperTrend</th>\n",
              "      <th>upper_channel</th>\n",
              "      <th>lower_channel</th>\n",
              "      <th>middle_channel</th>\n",
              "      <th>trade_type</th>\n",
              "    </tr>\n",
              "  </thead>\n",
              "  <tbody>\n",
              "    <tr>\n",
              "      <th>0</th>\n",
              "      <td>49</td>\n",
              "      <td>2015-01-09 13:20:00</td>\n",
              "      <td>2015-01-09</td>\n",
              "      <td>13:20:00</td>\n",
              "      <td>18597.30</td>\n",
              "      <td>18598.15</td>\n",
              "      <td>18570.30</td>\n",
              "      <td>18596.80</td>\n",
              "      <td>18697.495</td>\n",
              "      <td>18864.00</td>\n",
              "      <td>18517.25</td>\n",
              "      <td>18690.625</td>\n",
              "      <td>NaN</td>\n",
              "    </tr>\n",
              "    <tr>\n",
              "      <th>1</th>\n",
              "      <td>50</td>\n",
              "      <td>2015-01-09 13:25:00</td>\n",
              "      <td>2015-01-09</td>\n",
              "      <td>13:25:00</td>\n",
              "      <td>18596.80</td>\n",
              "      <td>18606.10</td>\n",
              "      <td>18584.15</td>\n",
              "      <td>18600.15</td>\n",
              "      <td>18697.495</td>\n",
              "      <td>18859.65</td>\n",
              "      <td>18517.25</td>\n",
              "      <td>18688.450</td>\n",
              "      <td>NaN</td>\n",
              "    </tr>\n",
              "    <tr>\n",
              "      <th>2</th>\n",
              "      <td>51</td>\n",
              "      <td>2015-01-09 13:30:00</td>\n",
              "      <td>2015-01-09</td>\n",
              "      <td>13:30:00</td>\n",
              "      <td>18600.15</td>\n",
              "      <td>18605.85</td>\n",
              "      <td>18583.75</td>\n",
              "      <td>18596.90</td>\n",
              "      <td>18697.495</td>\n",
              "      <td>18850.15</td>\n",
              "      <td>18517.25</td>\n",
              "      <td>18683.700</td>\n",
              "      <td>NaN</td>\n",
              "    </tr>\n",
              "    <tr>\n",
              "      <th>3</th>\n",
              "      <td>52</td>\n",
              "      <td>2015-01-09 13:35:00</td>\n",
              "      <td>2015-01-09</td>\n",
              "      <td>13:35:00</td>\n",
              "      <td>18596.90</td>\n",
              "      <td>18596.90</td>\n",
              "      <td>18568.80</td>\n",
              "      <td>18588.25</td>\n",
              "      <td>18697.495</td>\n",
              "      <td>18821.40</td>\n",
              "      <td>18517.25</td>\n",
              "      <td>18669.325</td>\n",
              "      <td>NaN</td>\n",
              "    </tr>\n",
              "    <tr>\n",
              "      <th>4</th>\n",
              "      <td>53</td>\n",
              "      <td>2015-01-09 13:40:00</td>\n",
              "      <td>2015-01-09</td>\n",
              "      <td>13:40:00</td>\n",
              "      <td>18590.00</td>\n",
              "      <td>18590.00</td>\n",
              "      <td>18571.30</td>\n",
              "      <td>18581.90</td>\n",
              "      <td>18697.495</td>\n",
              "      <td>18814.25</td>\n",
              "      <td>18517.25</td>\n",
              "      <td>18665.750</td>\n",
              "      <td>NaN</td>\n",
              "    </tr>\n",
              "  </tbody>\n",
              "</table>\n",
              "</div>"
            ],
            "text/plain": [
              "   index            DateTime  ... middle_channel trade_type\n",
              "0     49 2015-01-09 13:20:00  ...      18690.625        NaN\n",
              "1     50 2015-01-09 13:25:00  ...      18688.450        NaN\n",
              "2     51 2015-01-09 13:30:00  ...      18683.700        NaN\n",
              "3     52 2015-01-09 13:35:00  ...      18669.325        NaN\n",
              "4     53 2015-01-09 13:40:00  ...      18665.750        NaN\n",
              "\n",
              "[5 rows x 13 columns]"
            ]
          },
          "metadata": {
            "tags": []
          },
          "execution_count": 87
        }
      ]
    },
    {
      "cell_type": "code",
      "metadata": {
        "id": "3ZqnC_ChT_UU"
      },
      "source": [
        "n=0\r\n",
        "df3 = df2.dropna(axis=0, inplace=False)\r\n",
        "df3=df3.reset_index()\r\n",
        "#trade type \r\n",
        "df3['trade_type'] = np.nan\r\n",
        "#long position above supertrend and second candle break first candle high\r\n",
        "for i in range(n,len(df3)):\r\n",
        "  if df3['upper_channel'][i] <= df3['Close_15'][i] and (df3.loc[i,\"Time\"]>=datetime.datetime.strptime('10:00:00', '%H:%M:%S').time()) & (df3.loc[i,\"Time\"]<datetime.datetime.strptime('14:45:00', '%H:%M:%S').time()):\r\n",
        "    df3['trade_type'][i]= 'long'\r\n",
        "#long position below supertrend and second candle break first candle low\r\n",
        "for i in range(n,len(df2)):\r\n",
        "  if df3['lower_channel'][i] >= df3['Close_15'][i] and (df3.loc[i,\"Time\"]>=datetime.datetime.strptime('10:00:00', '%H:%M:%S').time()) & (df3.loc[i,\"Time\"]<datetime.datetime.strptime('14:45:00', '%H:%M:%S').time()):\r\n",
        "    df3['trade_type'][i]= 'short'"
      ],
      "execution_count": 95,
      "outputs": []
    },
    {
      "cell_type": "code",
      "metadata": {
        "colab": {
          "base_uri": "https://localhost:8080/"
        },
        "id": "Do-M4s9LUDD4",
        "outputId": "27dce259-387f-4ad7-c05b-7cf9fdfc1a50"
      },
      "source": [
        "df3.info()"
      ],
      "execution_count": 96,
      "outputs": [
        {
          "output_type": "stream",
          "text": [
            "<class 'pandas.core.frame.DataFrame'>\n",
            "RangeIndex: 88491 entries, 0 to 88490\n",
            "Data columns (total 13 columns):\n",
            " #   Column          Non-Null Count  Dtype         \n",
            "---  ------          --------------  -----         \n",
            " 0   index           88491 non-null  int64         \n",
            " 1   DateTime        88491 non-null  datetime64[ns]\n",
            " 2   Date            88491 non-null  object        \n",
            " 3   Time            88491 non-null  object        \n",
            " 4   Open_15         88491 non-null  float64       \n",
            " 5   High_15         88491 non-null  float64       \n",
            " 6   Low_15          88491 non-null  float64       \n",
            " 7   Close_15        88491 non-null  float64       \n",
            " 8   SuperTrend      88491 non-null  float64       \n",
            " 9   upper_channel   88491 non-null  float64       \n",
            " 10  lower_channel   88491 non-null  float64       \n",
            " 11  middle_channel  88491 non-null  float64       \n",
            " 12  trade_type      391 non-null    object        \n",
            "dtypes: datetime64[ns](1), float64(8), int64(1), object(3)\n",
            "memory usage: 8.8+ MB\n"
          ],
          "name": "stdout"
        }
      ]
    },
    {
      "cell_type": "code",
      "metadata": {
        "id": "qyRdnd4yTgTm"
      },
      "source": [
        "n=0\r\n",
        "df3 = df2.dropna(axis=0, inplace=False)\r\n",
        "df3=df3.reset_index()\r\n",
        "#trade type \r\n",
        "df3['trade_type'] = np.nan\r\n",
        "#long position above supertrend and second candle break first candle high\r\n",
        "for i in range(n,len(df3)):\r\n",
        "  if df3['upper_channel'][i] <= df3['High_15'][i] and (df3.loc[i,\"Time\"]>=datetime.datetime.strptime('10:00:00', '%H:%M:%S').time()) & (df3.loc[i,\"Time\"]<datetime.datetime.strptime('14:45:00', '%H:%M:%S').time()):\r\n",
        "    df3['trade_type'][i]= 'long'\r\n",
        "#long position below supertrend and second candle break first candle low\r\n",
        "for i in range(n,len(df2)):\r\n",
        "  if df3['lower_channel'][i] >= df3['Low_15'][i] and (df3.loc[i,\"Time\"]>=datetime.datetime.strptime('10:00:00', '%H:%M:%S').time()) & (df3.loc[i,\"Time\"]<datetime.datetime.strptime('14:45:00', '%H:%M:%S').time()):\r\n",
        "    df3['trade_type'][i]= 'short'"
      ],
      "execution_count": 93,
      "outputs": []
    },
    {
      "cell_type": "code",
      "metadata": {
        "colab": {
          "base_uri": "https://localhost:8080/"
        },
        "id": "9nQEmuMjTmjW",
        "outputId": "6a547475-0cc4-4da2-cfe4-0ea92f58708e"
      },
      "source": [
        "df3.info()"
      ],
      "execution_count": 94,
      "outputs": [
        {
          "output_type": "stream",
          "text": [
            "<class 'pandas.core.frame.DataFrame'>\n",
            "RangeIndex: 88491 entries, 0 to 88490\n",
            "Data columns (total 13 columns):\n",
            " #   Column          Non-Null Count  Dtype         \n",
            "---  ------          --------------  -----         \n",
            " 0   index           88491 non-null  int64         \n",
            " 1   DateTime        88491 non-null  datetime64[ns]\n",
            " 2   Date            88491 non-null  object        \n",
            " 3   Time            88491 non-null  object        \n",
            " 4   Open_15         88491 non-null  float64       \n",
            " 5   High_15         88491 non-null  float64       \n",
            " 6   Low_15          88491 non-null  float64       \n",
            " 7   Close_15        88491 non-null  float64       \n",
            " 8   SuperTrend      88491 non-null  float64       \n",
            " 9   upper_channel   88491 non-null  float64       \n",
            " 10  lower_channel   88491 non-null  float64       \n",
            " 11  middle_channel  88491 non-null  float64       \n",
            " 12  trade_type      7859 non-null   object        \n",
            "dtypes: datetime64[ns](1), float64(8), int64(1), object(3)\n",
            "memory usage: 8.8+ MB\n"
          ],
          "name": "stdout"
        }
      ]
    },
    {
      "cell_type": "code",
      "metadata": {
        "id": "v-5RBCy0Q4fP"
      },
      "source": [
        "n=0\r\n",
        "df3 = df2.dropna(axis=0, inplace=False)\r\n",
        "df3=df3.reset_index()\r\n",
        "#trade type \r\n",
        "df3['trade_type'] = np.nan\r\n",
        "#long position above supertrend and second candle break first candle high\r\n",
        "for i in range(n,len(df3)):\r\n",
        "  if df3['upper_channel'][i] <= df3['High_15'][i] and df3['SuperTrend'][i] <= df3['High_15'][i] and (df3.loc[i,\"Time\"]>=datetime.datetime.strptime('10:00:00', '%H:%M:%S').time()) & (df3.loc[i,\"Time\"]<datetime.datetime.strptime('14:45:00', '%H:%M:%S').time()):\r\n",
        "    df3['trade_type'][i]= 'long'\r\n",
        "#long position below supertrend and second candle break first candle low\r\n",
        "for i in range(n,len(df2)):\r\n",
        "  if df3['lower_channel'][i] >= df3['Low_15'][i] and df3['SuperTrend'][i] <= df3['Low_15'][i] and (df3.loc[i,\"Time\"]>=datetime.datetime.strptime('10:00:00', '%H:%M:%S').time()) & (df3.loc[i,\"Time\"]<datetime.datetime.strptime('14:45:00', '%H:%M:%S').time()):\r\n",
        "    df3['trade_type'][i]= 'short'"
      ],
      "execution_count": 88,
      "outputs": []
    },
    {
      "cell_type": "code",
      "metadata": {
        "colab": {
          "base_uri": "https://localhost:8080/"
        },
        "id": "fCS9aCB-Rhxz",
        "outputId": "b78665c5-9f49-4f32-947c-4f781f75e4b2"
      },
      "source": [
        "df3.info()"
      ],
      "execution_count": 89,
      "outputs": [
        {
          "output_type": "stream",
          "text": [
            "<class 'pandas.core.frame.DataFrame'>\n",
            "RangeIndex: 88491 entries, 0 to 88490\n",
            "Data columns (total 13 columns):\n",
            " #   Column          Non-Null Count  Dtype         \n",
            "---  ------          --------------  -----         \n",
            " 0   index           88491 non-null  int64         \n",
            " 1   DateTime        88491 non-null  datetime64[ns]\n",
            " 2   Date            88491 non-null  object        \n",
            " 3   Time            88491 non-null  object        \n",
            " 4   Open_15         88491 non-null  float64       \n",
            " 5   High_15         88491 non-null  float64       \n",
            " 6   Low_15          88491 non-null  float64       \n",
            " 7   Close_15        88491 non-null  float64       \n",
            " 8   SuperTrend      88491 non-null  float64       \n",
            " 9   upper_channel   88491 non-null  float64       \n",
            " 10  lower_channel   88491 non-null  float64       \n",
            " 11  middle_channel  88491 non-null  float64       \n",
            " 12  trade_type      4376 non-null   object        \n",
            "dtypes: datetime64[ns](1), float64(8), int64(1), object(3)\n",
            "memory usage: 8.8+ MB\n"
          ],
          "name": "stdout"
        }
      ]
    },
    {
      "cell_type": "code",
      "metadata": {
        "id": "oK2oAhbrS_Dj"
      },
      "source": [
        "n=0\r\n",
        "df3 = df2.dropna(axis=0, inplace=False)\r\n",
        "df3=df3.reset_index()\r\n",
        "#trade type \r\n",
        "df3['trade_type'] = np.nan\r\n",
        "#long position above supertrend and second candle break first candle high\r\n",
        "for i in range(n,len(df3)):\r\n",
        "  if df3['upper_channel'][i] <= df3['High_15'][i] and df3['upper_channel'][i] <= df3['High_15'][i+1] and (df3.loc[i,\"Time\"]>=datetime.datetime.strptime('10:00:00', '%H:%M:%S').time()) & (df3.loc[i,\"Time\"]<datetime.datetime.strptime('14:45:00', '%H:%M:%S').time()):\r\n",
        "    df3['trade_type'][i]= 'long'\r\n",
        "#long position below supertrend and second candle break first candle low\r\n",
        "for i in range(n,len(df2)):\r\n",
        "  if df3['lower_channel'][i] >= df3['Low_15'][i] and df3['lower_channel'][i] <= df3['Low_15'][i+1] and (df3.loc[i,\"Time\"]>=datetime.datetime.strptime('10:00:00', '%H:%M:%S').time()) & (df3.loc[i,\"Time\"]<datetime.datetime.strptime('14:45:00', '%H:%M:%S').time()):\r\n",
        "    df3['trade_type'][i]= 'short'"
      ],
      "execution_count": 91,
      "outputs": []
    },
    {
      "cell_type": "code",
      "metadata": {
        "colab": {
          "base_uri": "https://localhost:8080/"
        },
        "id": "z1BcuuQATPix",
        "outputId": "1f5b1cbc-d969-404f-af8a-0d3b54f2e764"
      },
      "source": [
        "df3.info()"
      ],
      "execution_count": 92,
      "outputs": [
        {
          "output_type": "stream",
          "text": [
            "<class 'pandas.core.frame.DataFrame'>\n",
            "RangeIndex: 88491 entries, 0 to 88490\n",
            "Data columns (total 13 columns):\n",
            " #   Column          Non-Null Count  Dtype         \n",
            "---  ------          --------------  -----         \n",
            " 0   index           88491 non-null  int64         \n",
            " 1   DateTime        88491 non-null  datetime64[ns]\n",
            " 2   Date            88491 non-null  object        \n",
            " 3   Time            88491 non-null  object        \n",
            " 4   Open_15         88491 non-null  float64       \n",
            " 5   High_15         88491 non-null  float64       \n",
            " 6   Low_15          88491 non-null  float64       \n",
            " 7   Close_15        88491 non-null  float64       \n",
            " 8   SuperTrend      88491 non-null  float64       \n",
            " 9   upper_channel   88491 non-null  float64       \n",
            " 10  lower_channel   88491 non-null  float64       \n",
            " 11  middle_channel  88491 non-null  float64       \n",
            " 12  trade_type      4164 non-null   object        \n",
            "dtypes: datetime64[ns](1), float64(8), int64(1), object(3)\n",
            "memory usage: 8.8+ MB\n"
          ],
          "name": "stdout"
        }
      ]
    },
    {
      "cell_type": "code",
      "metadata": {
        "id": "W-dLXU4cTRZ_"
      },
      "source": [
        ""
      ],
      "execution_count": null,
      "outputs": []
    }
  ]
}
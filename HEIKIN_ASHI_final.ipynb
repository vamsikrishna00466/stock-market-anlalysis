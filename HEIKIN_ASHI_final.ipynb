{
  "nbformat": 4,
  "nbformat_minor": 0,
  "metadata": {
    "colab": {
      "name": "HEIKIN ASHI3.ipynb",
      "provenance": [],
      "authorship_tag": "ABX9TyP+/N2xo1/8bDwJCRb8ztMk",
      "include_colab_link": true
    },
    "kernelspec": {
      "name": "python3",
      "display_name": "Python 3"
    },
    "language_info": {
      "name": "python"
    }
  },
  "cells": [
    {
      "cell_type": "markdown",
      "metadata": {
        "id": "view-in-github",
        "colab_type": "text"
      },
      "source": [
        "<a href=\"https://colab.research.google.com/github/vamsikrishna00466/stock-market-anlalysis/blob/main/HEIKIN_ASHI_final.ipynb\" target=\"_parent\"><img src=\"https://colab.research.google.com/assets/colab-badge.svg\" alt=\"Open In Colab\"/></a>"
      ]
    },
    {
      "cell_type": "code",
      "metadata": {
        "colab": {
          "base_uri": "https://localhost:8080/"
        },
        "id": "w0hQVLijna-N",
        "outputId": "e7970dee-4814-4ff9-925c-0fcf8a450d51"
      },
      "source": [
        "pip install mysql-connector-python-rf"
      ],
      "execution_count": 178,
      "outputs": [
        {
          "output_type": "stream",
          "text": [
            "Requirement already satisfied: mysql-connector-python-rf in /usr/local/lib/python3.7/dist-packages (2.2.2)\n"
          ],
          "name": "stdout"
        }
      ]
    },
    {
      "cell_type": "code",
      "metadata": {
        "id": "fzj4yDMQnhLo"
      },
      "source": [
        "#importing relevant libraries\n",
        "import os\n",
        "import pandas as pd\n",
        "import numpy as np\n",
        "import datetime\n",
        "from matplotlib import pyplot as plt\n",
        "import operator\n",
        "import decimal\n",
        "import time\n",
        "import mysql.connector as mysql\n",
        "from math import floor\n",
        "import itertools\n",
        "import warnings\n",
        "warnings.filterwarnings('ignore')"
      ],
      "execution_count": 179,
      "outputs": []
    },
    {
      "cell_type": "code",
      "metadata": {
        "id": "cymF_dkjnmUV"
      },
      "source": [
        "df=df[['ins_date', 'open', 'high', 'low', 'close']]\n",
        "df_original=df.copy()\n",
        "#remove duplicates\n",
        "df1 = df.drop_duplicates(keep='last')\n",
        "df1=df1.reset_index()\n",
        "df1=df1[['ins_date','open','high','low','close']]\n",
        "#change the time zone\n",
        "df1['ins_date'] = df1['ins_date'].dt.tz_localize('GMT').dt.tz_convert('Asia/Kolkata')\n"
      ],
      "execution_count": 181,
      "outputs": []
    },
    {
      "cell_type": "code",
      "metadata": {
        "id": "2QDiIqr0nplb"
      },
      "source": [
        "df1[\"date\"] = list(map(lambda x: x[:19],df1[\"ins_date\"].astype(str)))\n",
        "df1[\"time\"] = list(map(lambda x: x[11:],df1[\"date\"].astype(str)))\n",
        "df1[\"date1\"] = list(map(lambda x: x[:10],df1[\"date\"].astype(str)))\n"
      ],
      "execution_count": 182,
      "outputs": []
    },
    {
      "cell_type": "code",
      "metadata": {
        "id": "NnJ8HLSZnuTX"
      },
      "source": [
        "df2=df1.copy()\n",
        "#df_drop=df1.loc[df1['date1'] == '2021-03-23']\n",
        "df2 = df2.drop((df2.loc[df2['date1'] =='2021-03-23']).index)\n",
        "df2 = df2.drop((df2.loc[df2['date1'] =='2021-03-22']).index)"
      ],
      "execution_count": 183,
      "outputs": []
    },
    {
      "cell_type": "code",
      "metadata": {
        "id": "IJwR28renyw6"
      },
      "source": [
        "df2=df2[['date','date1','open','high','low','close','time']]"
      ],
      "execution_count": 184,
      "outputs": []
    },
    {
      "cell_type": "code",
      "metadata": {
        "id": "RUyXtUnGn3YZ"
      },
      "source": [
        "df2['date'] = pd.to_datetime(df2.date)\n",
        "df2 =df2.reset_index().set_index('date')"
      ],
      "execution_count": 185,
      "outputs": []
    },
    {
      "cell_type": "code",
      "metadata": {
        "colab": {
          "base_uri": "https://localhost:8080/",
          "height": 235
        },
        "id": "cr0cw70Qn9Ka",
        "outputId": "869b8851-bebc-455b-c0ae-365fe98a47e7"
      },
      "source": [
        "df2.tail()"
      ],
      "execution_count": 186,
      "outputs": [
        {
          "output_type": "execute_result",
          "data": {
            "text/html": [
              "<div>\n",
              "<style scoped>\n",
              "    .dataframe tbody tr th:only-of-type {\n",
              "        vertical-align: middle;\n",
              "    }\n",
              "\n",
              "    .dataframe tbody tr th {\n",
              "        vertical-align: top;\n",
              "    }\n",
              "\n",
              "    .dataframe thead th {\n",
              "        text-align: right;\n",
              "    }\n",
              "</style>\n",
              "<table border=\"1\" class=\"dataframe\">\n",
              "  <thead>\n",
              "    <tr style=\"text-align: right;\">\n",
              "      <th></th>\n",
              "      <th>index</th>\n",
              "      <th>date1</th>\n",
              "      <th>open</th>\n",
              "      <th>high</th>\n",
              "      <th>low</th>\n",
              "      <th>close</th>\n",
              "      <th>time</th>\n",
              "    </tr>\n",
              "    <tr>\n",
              "      <th>date</th>\n",
              "      <th></th>\n",
              "      <th></th>\n",
              "      <th></th>\n",
              "      <th></th>\n",
              "      <th></th>\n",
              "      <th></th>\n",
              "      <th></th>\n",
              "    </tr>\n",
              "  </thead>\n",
              "  <tbody>\n",
              "    <tr>\n",
              "      <th>2021-03-19 15:25:00</th>\n",
              "      <td>572588</td>\n",
              "      <td>2021-03-19</td>\n",
              "      <td>34050.90</td>\n",
              "      <td>34070.15</td>\n",
              "      <td>34038.95</td>\n",
              "      <td>34069.80</td>\n",
              "      <td>15:25:00</td>\n",
              "    </tr>\n",
              "    <tr>\n",
              "      <th>2021-03-19 15:26:00</th>\n",
              "      <td>572589</td>\n",
              "      <td>2021-03-19</td>\n",
              "      <td>34069.10</td>\n",
              "      <td>34097.40</td>\n",
              "      <td>34067.20</td>\n",
              "      <td>34094.35</td>\n",
              "      <td>15:26:00</td>\n",
              "    </tr>\n",
              "    <tr>\n",
              "      <th>2021-03-19 15:27:00</th>\n",
              "      <td>572590</td>\n",
              "      <td>2021-03-19</td>\n",
              "      <td>34092.80</td>\n",
              "      <td>34098.50</td>\n",
              "      <td>34084.20</td>\n",
              "      <td>34089.15</td>\n",
              "      <td>15:27:00</td>\n",
              "    </tr>\n",
              "    <tr>\n",
              "      <th>2021-03-19 15:28:00</th>\n",
              "      <td>572591</td>\n",
              "      <td>2021-03-19</td>\n",
              "      <td>34085.75</td>\n",
              "      <td>34103.70</td>\n",
              "      <td>34083.80</td>\n",
              "      <td>34103.70</td>\n",
              "      <td>15:28:00</td>\n",
              "    </tr>\n",
              "    <tr>\n",
              "      <th>2021-03-19 15:29:00</th>\n",
              "      <td>572592</td>\n",
              "      <td>2021-03-19</td>\n",
              "      <td>34096.90</td>\n",
              "      <td>34124.30</td>\n",
              "      <td>34095.50</td>\n",
              "      <td>34115.10</td>\n",
              "      <td>15:29:00</td>\n",
              "    </tr>\n",
              "  </tbody>\n",
              "</table>\n",
              "</div>"
            ],
            "text/plain": [
              "                      index       date1      open  ...       low     close      time\n",
              "date                                               ...                              \n",
              "2021-03-19 15:25:00  572588  2021-03-19  34050.90  ...  34038.95  34069.80  15:25:00\n",
              "2021-03-19 15:26:00  572589  2021-03-19  34069.10  ...  34067.20  34094.35  15:26:00\n",
              "2021-03-19 15:27:00  572590  2021-03-19  34092.80  ...  34084.20  34089.15  15:27:00\n",
              "2021-03-19 15:28:00  572591  2021-03-19  34085.75  ...  34083.80  34103.70  15:28:00\n",
              "2021-03-19 15:29:00  572592  2021-03-19  34096.90  ...  34095.50  34115.10  15:29:00\n",
              "\n",
              "[5 rows x 7 columns]"
            ]
          },
          "metadata": {
            "tags": []
          },
          "execution_count": 186
        }
      ]
    },
    {
      "cell_type": "code",
      "metadata": {
        "id": "DH8N-EsZn_ow"
      },
      "source": [
        "#f3 = df2.between_time('09:15:00', '10:15:00')\n",
        "#df4 =df3.reset_index(drop=True)\n",
        "df3=df2.copy()\n",
        "df3.reset_index(level=0, inplace=True)\n",
        "df3 =df3[['date','date1','open','high','low','close','time']]\n",
        "df3[\"Time\"] = list(map(lambda x: x.time(),df3.date))\n",
        "\n",
        "df3['open'] = df3['open'].astype('float')\n",
        "df3['high'] = df3['high'].astype('float')\n",
        "df3['low'] = df3['low'].astype('float')\n",
        "df3['close'] = df3['close'].astype('float')"
      ],
      "execution_count": 187,
      "outputs": []
    },
    {
      "cell_type": "code",
      "metadata": {
        "colab": {
          "base_uri": "https://localhost:8080/",
          "height": 204
        },
        "id": "n0rURsO9oNn-",
        "outputId": "d9d55b7a-37d3-4f9e-f9a6-af2bfecbaaed"
      },
      "source": [
        "df3.tail()"
      ],
      "execution_count": 188,
      "outputs": [
        {
          "output_type": "execute_result",
          "data": {
            "text/html": [
              "<div>\n",
              "<style scoped>\n",
              "    .dataframe tbody tr th:only-of-type {\n",
              "        vertical-align: middle;\n",
              "    }\n",
              "\n",
              "    .dataframe tbody tr th {\n",
              "        vertical-align: top;\n",
              "    }\n",
              "\n",
              "    .dataframe thead th {\n",
              "        text-align: right;\n",
              "    }\n",
              "</style>\n",
              "<table border=\"1\" class=\"dataframe\">\n",
              "  <thead>\n",
              "    <tr style=\"text-align: right;\">\n",
              "      <th></th>\n",
              "      <th>date</th>\n",
              "      <th>date1</th>\n",
              "      <th>open</th>\n",
              "      <th>high</th>\n",
              "      <th>low</th>\n",
              "      <th>close</th>\n",
              "      <th>time</th>\n",
              "      <th>Time</th>\n",
              "    </tr>\n",
              "  </thead>\n",
              "  <tbody>\n",
              "    <tr>\n",
              "      <th>572588</th>\n",
              "      <td>2021-03-19 15:25:00</td>\n",
              "      <td>2021-03-19</td>\n",
              "      <td>34050.90</td>\n",
              "      <td>34070.15</td>\n",
              "      <td>34038.95</td>\n",
              "      <td>34069.80</td>\n",
              "      <td>15:25:00</td>\n",
              "      <td>15:25:00</td>\n",
              "    </tr>\n",
              "    <tr>\n",
              "      <th>572589</th>\n",
              "      <td>2021-03-19 15:26:00</td>\n",
              "      <td>2021-03-19</td>\n",
              "      <td>34069.10</td>\n",
              "      <td>34097.40</td>\n",
              "      <td>34067.20</td>\n",
              "      <td>34094.35</td>\n",
              "      <td>15:26:00</td>\n",
              "      <td>15:26:00</td>\n",
              "    </tr>\n",
              "    <tr>\n",
              "      <th>572590</th>\n",
              "      <td>2021-03-19 15:27:00</td>\n",
              "      <td>2021-03-19</td>\n",
              "      <td>34092.80</td>\n",
              "      <td>34098.50</td>\n",
              "      <td>34084.20</td>\n",
              "      <td>34089.15</td>\n",
              "      <td>15:27:00</td>\n",
              "      <td>15:27:00</td>\n",
              "    </tr>\n",
              "    <tr>\n",
              "      <th>572591</th>\n",
              "      <td>2021-03-19 15:28:00</td>\n",
              "      <td>2021-03-19</td>\n",
              "      <td>34085.75</td>\n",
              "      <td>34103.70</td>\n",
              "      <td>34083.80</td>\n",
              "      <td>34103.70</td>\n",
              "      <td>15:28:00</td>\n",
              "      <td>15:28:00</td>\n",
              "    </tr>\n",
              "    <tr>\n",
              "      <th>572592</th>\n",
              "      <td>2021-03-19 15:29:00</td>\n",
              "      <td>2021-03-19</td>\n",
              "      <td>34096.90</td>\n",
              "      <td>34124.30</td>\n",
              "      <td>34095.50</td>\n",
              "      <td>34115.10</td>\n",
              "      <td>15:29:00</td>\n",
              "      <td>15:29:00</td>\n",
              "    </tr>\n",
              "  </tbody>\n",
              "</table>\n",
              "</div>"
            ],
            "text/plain": [
              "                      date       date1      open  ...     close      time      Time\n",
              "572588 2021-03-19 15:25:00  2021-03-19  34050.90  ...  34069.80  15:25:00  15:25:00\n",
              "572589 2021-03-19 15:26:00  2021-03-19  34069.10  ...  34094.35  15:26:00  15:26:00\n",
              "572590 2021-03-19 15:27:00  2021-03-19  34092.80  ...  34089.15  15:27:00  15:27:00\n",
              "572591 2021-03-19 15:28:00  2021-03-19  34085.75  ...  34103.70  15:28:00  15:28:00\n",
              "572592 2021-03-19 15:29:00  2021-03-19  34096.90  ...  34115.10  15:29:00  15:29:00\n",
              "\n",
              "[5 rows x 8 columns]"
            ]
          },
          "metadata": {
            "tags": []
          },
          "execution_count": 188
        }
      ]
    },
    {
      "cell_type": "code",
      "metadata": {
        "id": "_RtTKmQQo9Pf"
      },
      "source": [
        "df4 = df3.copy()"
      ],
      "execution_count": 189,
      "outputs": []
    },
    {
      "cell_type": "code",
      "metadata": {
        "colab": {
          "base_uri": "https://localhost:8080/",
          "height": 204
        },
        "id": "dcGM9VyNpaiL",
        "outputId": "84b3cc3b-9ad4-47f2-f00f-27a57da34439"
      },
      "source": [
        "df4.tail()"
      ],
      "execution_count": 190,
      "outputs": [
        {
          "output_type": "execute_result",
          "data": {
            "text/html": [
              "<div>\n",
              "<style scoped>\n",
              "    .dataframe tbody tr th:only-of-type {\n",
              "        vertical-align: middle;\n",
              "    }\n",
              "\n",
              "    .dataframe tbody tr th {\n",
              "        vertical-align: top;\n",
              "    }\n",
              "\n",
              "    .dataframe thead th {\n",
              "        text-align: right;\n",
              "    }\n",
              "</style>\n",
              "<table border=\"1\" class=\"dataframe\">\n",
              "  <thead>\n",
              "    <tr style=\"text-align: right;\">\n",
              "      <th></th>\n",
              "      <th>date</th>\n",
              "      <th>date1</th>\n",
              "      <th>open</th>\n",
              "      <th>high</th>\n",
              "      <th>low</th>\n",
              "      <th>close</th>\n",
              "      <th>time</th>\n",
              "      <th>Time</th>\n",
              "    </tr>\n",
              "  </thead>\n",
              "  <tbody>\n",
              "    <tr>\n",
              "      <th>572588</th>\n",
              "      <td>2021-03-19 15:25:00</td>\n",
              "      <td>2021-03-19</td>\n",
              "      <td>34050.90</td>\n",
              "      <td>34070.15</td>\n",
              "      <td>34038.95</td>\n",
              "      <td>34069.80</td>\n",
              "      <td>15:25:00</td>\n",
              "      <td>15:25:00</td>\n",
              "    </tr>\n",
              "    <tr>\n",
              "      <th>572589</th>\n",
              "      <td>2021-03-19 15:26:00</td>\n",
              "      <td>2021-03-19</td>\n",
              "      <td>34069.10</td>\n",
              "      <td>34097.40</td>\n",
              "      <td>34067.20</td>\n",
              "      <td>34094.35</td>\n",
              "      <td>15:26:00</td>\n",
              "      <td>15:26:00</td>\n",
              "    </tr>\n",
              "    <tr>\n",
              "      <th>572590</th>\n",
              "      <td>2021-03-19 15:27:00</td>\n",
              "      <td>2021-03-19</td>\n",
              "      <td>34092.80</td>\n",
              "      <td>34098.50</td>\n",
              "      <td>34084.20</td>\n",
              "      <td>34089.15</td>\n",
              "      <td>15:27:00</td>\n",
              "      <td>15:27:00</td>\n",
              "    </tr>\n",
              "    <tr>\n",
              "      <th>572591</th>\n",
              "      <td>2021-03-19 15:28:00</td>\n",
              "      <td>2021-03-19</td>\n",
              "      <td>34085.75</td>\n",
              "      <td>34103.70</td>\n",
              "      <td>34083.80</td>\n",
              "      <td>34103.70</td>\n",
              "      <td>15:28:00</td>\n",
              "      <td>15:28:00</td>\n",
              "    </tr>\n",
              "    <tr>\n",
              "      <th>572592</th>\n",
              "      <td>2021-03-19 15:29:00</td>\n",
              "      <td>2021-03-19</td>\n",
              "      <td>34096.90</td>\n",
              "      <td>34124.30</td>\n",
              "      <td>34095.50</td>\n",
              "      <td>34115.10</td>\n",
              "      <td>15:29:00</td>\n",
              "      <td>15:29:00</td>\n",
              "    </tr>\n",
              "  </tbody>\n",
              "</table>\n",
              "</div>"
            ],
            "text/plain": [
              "                      date       date1      open  ...     close      time      Time\n",
              "572588 2021-03-19 15:25:00  2021-03-19  34050.90  ...  34069.80  15:25:00  15:25:00\n",
              "572589 2021-03-19 15:26:00  2021-03-19  34069.10  ...  34094.35  15:26:00  15:26:00\n",
              "572590 2021-03-19 15:27:00  2021-03-19  34092.80  ...  34089.15  15:27:00  15:27:00\n",
              "572591 2021-03-19 15:28:00  2021-03-19  34085.75  ...  34103.70  15:28:00  15:28:00\n",
              "572592 2021-03-19 15:29:00  2021-03-19  34096.90  ...  34115.10  15:29:00  15:29:00\n",
              "\n",
              "[5 rows x 8 columns]"
            ]
          },
          "metadata": {
            "tags": []
          },
          "execution_count": 190
        }
      ]
    },
    {
      "cell_type": "code",
      "metadata": {
        "id": "PCv_rcohpZb8"
      },
      "source": [
        "ohlcv_dict = {\n",
        " 'open': 'first',\n",
        " 'high': 'max',\n",
        " 'low': 'min',\n",
        " 'close': 'last',\n",
        "}"
      ],
      "execution_count": 191,
      "outputs": []
    },
    {
      "cell_type": "code",
      "metadata": {
        "id": "EFitJ4Tg9AO0"
      },
      "source": [
        ""
      ],
      "execution_count": 191,
      "outputs": []
    },
    {
      "cell_type": "code",
      "metadata": {
        "id": "3VCWiuX5pqCG"
      },
      "source": [
        "df4 =df4.reset_index().set_index('date')\n",
        "df5 = df4.resample('60T', base=15).agg(ohlcv_dict)"
      ],
      "execution_count": 192,
      "outputs": []
    },
    {
      "cell_type": "code",
      "metadata": {
        "id": "fFKQ_Zratnxs"
      },
      "source": [
        "df5.dropna(inplace=True)"
      ],
      "execution_count": 193,
      "outputs": []
    },
    {
      "cell_type": "code",
      "metadata": {
        "colab": {
          "base_uri": "https://localhost:8080/"
        },
        "id": "kgi9XM1xslGw",
        "outputId": "02c22b40-9bbc-4138-c28c-9021a8dc2236"
      },
      "source": [
        "df5.info()"
      ],
      "execution_count": 194,
      "outputs": [
        {
          "output_type": "stream",
          "text": [
            "<class 'pandas.core.frame.DataFrame'>\n",
            "DatetimeIndex: 10695 entries, 2015-01-09 09:15:00 to 2021-03-19 15:15:00\n",
            "Data columns (total 4 columns):\n",
            " #   Column  Non-Null Count  Dtype  \n",
            "---  ------  --------------  -----  \n",
            " 0   open    10695 non-null  float64\n",
            " 1   high    10695 non-null  float64\n",
            " 2   low     10695 non-null  float64\n",
            " 3   close   10695 non-null  float64\n",
            "dtypes: float64(4)\n",
            "memory usage: 417.8 KB\n"
          ],
          "name": "stdout"
        }
      ]
    },
    {
      "cell_type": "code",
      "metadata": {
        "colab": {
          "base_uri": "https://localhost:8080/",
          "height": 235
        },
        "id": "JgXpONaxpyXq",
        "outputId": "751ae33d-058b-43ff-b9c7-837a2ff7d9dd"
      },
      "source": [
        "df5.tail()"
      ],
      "execution_count": 195,
      "outputs": [
        {
          "output_type": "execute_result",
          "data": {
            "text/html": [
              "<div>\n",
              "<style scoped>\n",
              "    .dataframe tbody tr th:only-of-type {\n",
              "        vertical-align: middle;\n",
              "    }\n",
              "\n",
              "    .dataframe tbody tr th {\n",
              "        vertical-align: top;\n",
              "    }\n",
              "\n",
              "    .dataframe thead th {\n",
              "        text-align: right;\n",
              "    }\n",
              "</style>\n",
              "<table border=\"1\" class=\"dataframe\">\n",
              "  <thead>\n",
              "    <tr style=\"text-align: right;\">\n",
              "      <th></th>\n",
              "      <th>open</th>\n",
              "      <th>high</th>\n",
              "      <th>low</th>\n",
              "      <th>close</th>\n",
              "    </tr>\n",
              "    <tr>\n",
              "      <th>date</th>\n",
              "      <th></th>\n",
              "      <th></th>\n",
              "      <th></th>\n",
              "      <th></th>\n",
              "    </tr>\n",
              "  </thead>\n",
              "  <tbody>\n",
              "    <tr>\n",
              "      <th>2021-03-19 11:15:00</th>\n",
              "      <td>34031.90</td>\n",
              "      <td>34062.75</td>\n",
              "      <td>33503.95</td>\n",
              "      <td>33544.65</td>\n",
              "    </tr>\n",
              "    <tr>\n",
              "      <th>2021-03-19 12:15:00</th>\n",
              "      <td>33545.70</td>\n",
              "      <td>33767.40</td>\n",
              "      <td>33479.30</td>\n",
              "      <td>33694.65</td>\n",
              "    </tr>\n",
              "    <tr>\n",
              "      <th>2021-03-19 13:15:00</th>\n",
              "      <td>33691.50</td>\n",
              "      <td>34030.30</td>\n",
              "      <td>33637.35</td>\n",
              "      <td>33920.70</td>\n",
              "    </tr>\n",
              "    <tr>\n",
              "      <th>2021-03-19 14:15:00</th>\n",
              "      <td>33925.50</td>\n",
              "      <td>34351.50</td>\n",
              "      <td>33767.55</td>\n",
              "      <td>34174.05</td>\n",
              "    </tr>\n",
              "    <tr>\n",
              "      <th>2021-03-19 15:15:00</th>\n",
              "      <td>34175.05</td>\n",
              "      <td>34185.85</td>\n",
              "      <td>33986.10</td>\n",
              "      <td>34115.10</td>\n",
              "    </tr>\n",
              "  </tbody>\n",
              "</table>\n",
              "</div>"
            ],
            "text/plain": [
              "                         open      high       low     close\n",
              "date                                                       \n",
              "2021-03-19 11:15:00  34031.90  34062.75  33503.95  33544.65\n",
              "2021-03-19 12:15:00  33545.70  33767.40  33479.30  33694.65\n",
              "2021-03-19 13:15:00  33691.50  34030.30  33637.35  33920.70\n",
              "2021-03-19 14:15:00  33925.50  34351.50  33767.55  34174.05\n",
              "2021-03-19 15:15:00  34175.05  34185.85  33986.10  34115.10"
            ]
          },
          "metadata": {
            "tags": []
          },
          "execution_count": 195
        }
      ]
    },
    {
      "cell_type": "code",
      "metadata": {
        "id": "6B4PmY_xrzlu"
      },
      "source": [
        "#close_HEIKIN\n",
        "n=0\n",
        "df5['close_HEIKIN']=np.nan\n",
        "for i in range(n,len(df5)):\n",
        "  df5['close_HEIKIN'][i] =df5['close'][i]+df5['high'][i]+df5['low'][i]+df5['open'][i]\n",
        "n=0\n",
        "m=4\n",
        "for i in range(n,len(df5)):\n",
        "  df5['close_HEIKIN'][i] =df5['close_HEIKIN'][i]/m\n",
        "\n",
        "#open_aHEIKIN\n",
        "n=1\n",
        "n=0\n",
        "df5['open_HEIKIN']=np.nan\n",
        "for i in range(n,len(df5)):\n",
        "  df5['open_HEIKIN'][0] =df5['open'][0]\n",
        "n=1\n",
        "m=2\n",
        "#for i in range(n,len(df5))\n",
        "for i in range(n,len(df5)):\n",
        "  df5['open_HEIKIN'][i] =df5['open_HEIKIN'][i-1]+df5['close_HEIKIN'][i-1] \n",
        "  df5['open_HEIKIN'][i] =df5['open_HEIKIN'][i]/m\n",
        "\n",
        "#high_HEIKIN and low_HEIKIN\n",
        "df5['high_HEIKIN']=np.nan\n",
        "df5['high_HEIKIN'] = df5[['open_HEIKIN','close_HEIKIN','high']].max(axis=1)\n",
        "df5['low_HEIKIN']=np.nan\n",
        "df5['low_HEIKIN'] = df5[['open_HEIKIN','close_HEIKIN','low']].min(axis=1)"
      ],
      "execution_count": 196,
      "outputs": []
    },
    {
      "cell_type": "code",
      "metadata": {
        "id": "8XtP0fOPrKoS"
      },
      "source": [
        "df5['candle_type']=np\n",
        "n=0\n",
        "for i in range(n, len(df5)):\n",
        "  if df5['open_HEIKIN'][i]<df5['close_HEIKIN'][i]:\n",
        "    df5['candle_type'][i]='Green'\n",
        "  else:\n",
        "    df5['candle_type'][i]='Red'\n",
        "\n",
        "\n",
        "\n",
        "#df3[\"time\"] = list(map(lambda x: x[11:],df3[\"date\"].astype(str)))"
      ],
      "execution_count": 197,
      "outputs": []
    },
    {
      "cell_type": "code",
      "metadata": {
        "colab": {
          "base_uri": "https://localhost:8080/",
          "height": 235
        },
        "id": "YkPaUe6tuY0I",
        "outputId": "ceda91d8-7a33-4bfa-c4c6-0a0283c32400"
      },
      "source": [
        "df5.tail()"
      ],
      "execution_count": 198,
      "outputs": [
        {
          "output_type": "execute_result",
          "data": {
            "text/html": [
              "<div>\n",
              "<style scoped>\n",
              "    .dataframe tbody tr th:only-of-type {\n",
              "        vertical-align: middle;\n",
              "    }\n",
              "\n",
              "    .dataframe tbody tr th {\n",
              "        vertical-align: top;\n",
              "    }\n",
              "\n",
              "    .dataframe thead th {\n",
              "        text-align: right;\n",
              "    }\n",
              "</style>\n",
              "<table border=\"1\" class=\"dataframe\">\n",
              "  <thead>\n",
              "    <tr style=\"text-align: right;\">\n",
              "      <th></th>\n",
              "      <th>open</th>\n",
              "      <th>high</th>\n",
              "      <th>low</th>\n",
              "      <th>close</th>\n",
              "      <th>close_HEIKIN</th>\n",
              "      <th>open_HEIKIN</th>\n",
              "      <th>high_HEIKIN</th>\n",
              "      <th>low_HEIKIN</th>\n",
              "      <th>candle_type</th>\n",
              "    </tr>\n",
              "    <tr>\n",
              "      <th>date</th>\n",
              "      <th></th>\n",
              "      <th></th>\n",
              "      <th></th>\n",
              "      <th></th>\n",
              "      <th></th>\n",
              "      <th></th>\n",
              "      <th></th>\n",
              "      <th></th>\n",
              "      <th></th>\n",
              "    </tr>\n",
              "  </thead>\n",
              "  <tbody>\n",
              "    <tr>\n",
              "      <th>2021-03-19 11:15:00</th>\n",
              "      <td>34031.90</td>\n",
              "      <td>34062.75</td>\n",
              "      <td>33503.95</td>\n",
              "      <td>33544.65</td>\n",
              "      <td>33785.8125</td>\n",
              "      <td>33848.134411</td>\n",
              "      <td>34062.750000</td>\n",
              "      <td>33503.950000</td>\n",
              "      <td>Red</td>\n",
              "    </tr>\n",
              "    <tr>\n",
              "      <th>2021-03-19 12:15:00</th>\n",
              "      <td>33545.70</td>\n",
              "      <td>33767.40</td>\n",
              "      <td>33479.30</td>\n",
              "      <td>33694.65</td>\n",
              "      <td>33621.7625</td>\n",
              "      <td>33816.973456</td>\n",
              "      <td>33816.973456</td>\n",
              "      <td>33479.300000</td>\n",
              "      <td>Red</td>\n",
              "    </tr>\n",
              "    <tr>\n",
              "      <th>2021-03-19 13:15:00</th>\n",
              "      <td>33691.50</td>\n",
              "      <td>34030.30</td>\n",
              "      <td>33637.35</td>\n",
              "      <td>33920.70</td>\n",
              "      <td>33819.9625</td>\n",
              "      <td>33719.367978</td>\n",
              "      <td>34030.300000</td>\n",
              "      <td>33637.350000</td>\n",
              "      <td>Green</td>\n",
              "    </tr>\n",
              "    <tr>\n",
              "      <th>2021-03-19 14:15:00</th>\n",
              "      <td>33925.50</td>\n",
              "      <td>34351.50</td>\n",
              "      <td>33767.55</td>\n",
              "      <td>34174.05</td>\n",
              "      <td>34054.6500</td>\n",
              "      <td>33769.665239</td>\n",
              "      <td>34351.500000</td>\n",
              "      <td>33767.550000</td>\n",
              "      <td>Green</td>\n",
              "    </tr>\n",
              "    <tr>\n",
              "      <th>2021-03-19 15:15:00</th>\n",
              "      <td>34175.05</td>\n",
              "      <td>34185.85</td>\n",
              "      <td>33986.10</td>\n",
              "      <td>34115.10</td>\n",
              "      <td>34115.5250</td>\n",
              "      <td>33912.157619</td>\n",
              "      <td>34185.850000</td>\n",
              "      <td>33912.157619</td>\n",
              "      <td>Green</td>\n",
              "    </tr>\n",
              "  </tbody>\n",
              "</table>\n",
              "</div>"
            ],
            "text/plain": [
              "                         open      high  ...    low_HEIKIN  candle_type\n",
              "date                                     ...                           \n",
              "2021-03-19 11:15:00  34031.90  34062.75  ...  33503.950000          Red\n",
              "2021-03-19 12:15:00  33545.70  33767.40  ...  33479.300000          Red\n",
              "2021-03-19 13:15:00  33691.50  34030.30  ...  33637.350000        Green\n",
              "2021-03-19 14:15:00  33925.50  34351.50  ...  33767.550000        Green\n",
              "2021-03-19 15:15:00  34175.05  34185.85  ...  33912.157619        Green\n",
              "\n",
              "[5 rows x 9 columns]"
            ]
          },
          "metadata": {
            "tags": []
          },
          "execution_count": 198
        }
      ]
    },
    {
      "cell_type": "code",
      "metadata": {
        "id": "-iShvUBBuadJ"
      },
      "source": [
        "df5.reset_index(level=0, inplace=True)\n"
      ],
      "execution_count": 199,
      "outputs": []
    },
    {
      "cell_type": "code",
      "metadata": {
        "id": "_Ej4D4t2yQgr"
      },
      "source": [
        "df5[\"time\"] = list(map(lambda x: x[11:],df5[\"date\"].astype(str)))\n",
        "df5[\"date1\"] = list(map(lambda x: x[:10],df5[\"date\"].astype(str)))"
      ],
      "execution_count": 200,
      "outputs": []
    },
    {
      "cell_type": "code",
      "metadata": {
        "id": "fY2q9u0Ryfqf"
      },
      "source": [
        "df6 = df5.loc[df5['time']== '10:15:00']\n",
        "df6=df6.reset_index()\n",
        "df6=df6[['date','date1','time','open','high','low','close','open_HEIKIN','high_HEIKIN','low_HEIKIN','close_HEIKIN','candle_type']]"
      ],
      "execution_count": 201,
      "outputs": []
    },
    {
      "cell_type": "code",
      "metadata": {
        "colab": {
          "base_uri": "https://localhost:8080/",
          "height": 204
        },
        "id": "ieElcxWeyw_e",
        "outputId": "5b1c0b72-d1d1-4610-e64f-3cc824ddf50b"
      },
      "source": [
        "df6.tail()"
      ],
      "execution_count": 202,
      "outputs": [
        {
          "output_type": "execute_result",
          "data": {
            "text/html": [
              "<div>\n",
              "<style scoped>\n",
              "    .dataframe tbody tr th:only-of-type {\n",
              "        vertical-align: middle;\n",
              "    }\n",
              "\n",
              "    .dataframe tbody tr th {\n",
              "        vertical-align: top;\n",
              "    }\n",
              "\n",
              "    .dataframe thead th {\n",
              "        text-align: right;\n",
              "    }\n",
              "</style>\n",
              "<table border=\"1\" class=\"dataframe\">\n",
              "  <thead>\n",
              "    <tr style=\"text-align: right;\">\n",
              "      <th></th>\n",
              "      <th>date</th>\n",
              "      <th>date1</th>\n",
              "      <th>time</th>\n",
              "      <th>open</th>\n",
              "      <th>high</th>\n",
              "      <th>low</th>\n",
              "      <th>close</th>\n",
              "      <th>open_HEIKIN</th>\n",
              "      <th>high_HEIKIN</th>\n",
              "      <th>low_HEIKIN</th>\n",
              "      <th>close_HEIKIN</th>\n",
              "      <th>candle_type</th>\n",
              "    </tr>\n",
              "  </thead>\n",
              "  <tbody>\n",
              "    <tr>\n",
              "      <th>1521</th>\n",
              "      <td>2021-03-15 10:15:00</td>\n",
              "      <td>2021-03-15</td>\n",
              "      <td>10:15:00</td>\n",
              "      <td>34795.20</td>\n",
              "      <td>34899.90</td>\n",
              "      <td>34519.20</td>\n",
              "      <td>34559.75</td>\n",
              "      <td>35360.702289</td>\n",
              "      <td>35360.702289</td>\n",
              "      <td>34519.20</td>\n",
              "      <td>34693.5125</td>\n",
              "      <td>Red</td>\n",
              "    </tr>\n",
              "    <tr>\n",
              "      <th>1522</th>\n",
              "      <td>2021-03-16 10:15:00</td>\n",
              "      <td>2021-03-16</td>\n",
              "      <td>10:15:00</td>\n",
              "      <td>35110.15</td>\n",
              "      <td>35356.45</td>\n",
              "      <td>35096.65</td>\n",
              "      <td>35245.55</td>\n",
              "      <td>35096.862030</td>\n",
              "      <td>35356.450000</td>\n",
              "      <td>35096.65</td>\n",
              "      <td>35202.2000</td>\n",
              "      <td>Green</td>\n",
              "    </tr>\n",
              "    <tr>\n",
              "      <th>1523</th>\n",
              "      <td>2021-03-17 10:15:00</td>\n",
              "      <td>2021-03-17</td>\n",
              "      <td>10:15:00</td>\n",
              "      <td>34680.00</td>\n",
              "      <td>34838.55</td>\n",
              "      <td>34635.25</td>\n",
              "      <td>34756.25</td>\n",
              "      <td>34824.453610</td>\n",
              "      <td>34838.550000</td>\n",
              "      <td>34635.25</td>\n",
              "      <td>34727.5125</td>\n",
              "      <td>Red</td>\n",
              "    </tr>\n",
              "    <tr>\n",
              "      <th>1524</th>\n",
              "      <td>2021-03-18 10:15:00</td>\n",
              "      <td>2021-03-18</td>\n",
              "      <td>10:15:00</td>\n",
              "      <td>34599.80</td>\n",
              "      <td>34635.60</td>\n",
              "      <td>34408.80</td>\n",
              "      <td>34494.85</td>\n",
              "      <td>34475.796806</td>\n",
              "      <td>34635.600000</td>\n",
              "      <td>34408.80</td>\n",
              "      <td>34534.7625</td>\n",
              "      <td>Green</td>\n",
              "    </tr>\n",
              "    <tr>\n",
              "      <th>1525</th>\n",
              "      <td>2021-03-19 10:15:00</td>\n",
              "      <td>2021-03-19</td>\n",
              "      <td>10:15:00</td>\n",
              "      <td>33795.70</td>\n",
              "      <td>34122.00</td>\n",
              "      <td>33636.70</td>\n",
              "      <td>34036.65</td>\n",
              "      <td>33798.506323</td>\n",
              "      <td>34122.000000</td>\n",
              "      <td>33636.70</td>\n",
              "      <td>33897.7625</td>\n",
              "      <td>Green</td>\n",
              "    </tr>\n",
              "  </tbody>\n",
              "</table>\n",
              "</div>"
            ],
            "text/plain": [
              "                    date       date1  ... close_HEIKIN  candle_type\n",
              "1521 2021-03-15 10:15:00  2021-03-15  ...   34693.5125          Red\n",
              "1522 2021-03-16 10:15:00  2021-03-16  ...   35202.2000        Green\n",
              "1523 2021-03-17 10:15:00  2021-03-17  ...   34727.5125          Red\n",
              "1524 2021-03-18 10:15:00  2021-03-18  ...   34534.7625        Green\n",
              "1525 2021-03-19 10:15:00  2021-03-19  ...   33897.7625        Green\n",
              "\n",
              "[5 rows x 12 columns]"
            ]
          },
          "metadata": {
            "tags": []
          },
          "execution_count": 202
        }
      ]
    },
    {
      "cell_type": "code",
      "metadata": {
        "id": "noF2lQIE4p3J"
      },
      "source": [
        "#df6.to_excel(\"HEIKIN ASHI_final5.xlsx\")"
      ],
      "execution_count": 203,
      "outputs": []
    },
    {
      "cell_type": "code",
      "metadata": {
        "id": "ykZVs0_iBDbd"
      },
      "source": [
        ""
      ],
      "execution_count": 203,
      "outputs": []
    }
  ]
}
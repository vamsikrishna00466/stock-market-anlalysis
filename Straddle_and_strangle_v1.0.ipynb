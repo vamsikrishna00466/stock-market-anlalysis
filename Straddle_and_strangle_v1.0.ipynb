{
  "nbformat": 4,
  "nbformat_minor": 0,
  "metadata": {
    "colab": {
      "name": "Straddle and strangle.ipynb",
      "provenance": [],
      "authorship_tag": "ABX9TyPjCxYxSTgemvkSIw0L10Rj",
      "include_colab_link": true
    },
    "kernelspec": {
      "name": "python3",
      "display_name": "Python 3"
    },
    "language_info": {
      "name": "python"
    }
  },
  "cells": [
    {
      "cell_type": "markdown",
      "metadata": {
        "id": "view-in-github",
        "colab_type": "text"
      },
      "source": [
        "<a href=\"https://colab.research.google.com/github/vamsikrishna00466/stock-market-anlalysis/blob/main/Straddle_and_strangle_v1.0.ipynb\" target=\"_parent\"><img src=\"https://colab.research.google.com/assets/colab-badge.svg\" alt=\"Open In Colab\"/></a>"
      ]
    },
    {
      "cell_type": "code",
      "metadata": {
        "id": "gsB6ymdFsJhN"
      },
      "source": [
        "import datetime\n",
        "trade=0\n",
        "Trade= pd.DataFrame(columns=['Trade_Date'])\n",
        "for i in range(len(df_options)):\n",
        "    if (trade==0) & (df_options['Time'][i]>=datetime.datetime.strptime('10:00:00', '%H:%M:%S').time()) & (df_options['Time'][i]<=datetime.datetime.strptime('10:05:00', '%H:%M:%S').time()):\n",
        "        Entry_Price=df_options['Open'][i]\n",
        "        Entry_Time=df_options['Time'][i]\n",
        "        Entry_date=df_options['date'][i]\n",
        "        sl=Entry_Price*1.7\n",
        "        trade=1\n",
        "        continue\n",
        "    if (trade==1):\n",
        "        if (Entry_date==df_options['date'][i]) & (df_options['Time'][i]>=datetime.datetime.strptime('15:15:00', '%H:%M:%S').time()):\n",
        "            Exit_Price=df_options['Open'][i]\n",
        "            Exit_Time=df_options['Time'][i]\n",
        "            trade=0\n",
        "            Trade = Trade.append({'Trade_Date':df_options['Date'][i],\n",
        "                                  'Option_type':df_options['Option_type'][i],\n",
        "                                  'Strike_Price':df_options['Strike_Price'][i],\n",
        "                                  'Entry_Price':Entry_Price,\n",
        "                                  'Exit_Price':Exit_Price,\n",
        "                                  'Entry_Time':Entry_Time,\n",
        "                                  'Exit_Time':Exit_Time,\n",
        "                                  'sl':sl,\n",
        "                                  'sale_type':'sell_option',\n",
        "                                  'Exit_Type':'day_exit',\n",
        "                                  \"pnl\":(Entry_Price-Exit_Price)},\n",
        "                                 ignore_index=True)\n",
        "            continue\n",
        "        elif (Entry_date==df_options['date'][i]) & (df_options['Time'][i]<datetime.datetime.strptime('15:15:00', '%H:%M:%S').time()) & (sl<=df_options['High'][i]):\n",
        "            Exit_Price=sl\n",
        "            Exit_Time=df_options['Time'][i]\n",
        "            trade=0\n",
        "            Trade = Trade.append({'Trade_Date':df_options['Date'][i],\n",
        "                                  'Option_type':df_options['Option_type'][i],\n",
        "                                  'Strike_Price':df_options['Strike_Price'][i],\n",
        "                                  'Entry_Price':Entry_Price,\n",
        "                                  'Exit_Price':Exit_Price,\n",
        "                                  'Entry_Time':Entry_Time,\n",
        "                                  'Exit_Time':Exit_Time,\n",
        "                                  'sl':sl,\n",
        "                                  'sale_type':'sell_option',\n",
        "                                  'Exit_Type':'sl_exit',\n",
        "                                  \"pnl\":(Entry_Price-Exit_Price)},\n",
        "                                 ignore_index=True)\n",
        "            continue\n",
        "        elif (trade==1) & (Entry_date!=df_options['date'][i]):\n",
        "            trade=0\n",
        "            continue"
      ],
      "execution_count": null,
      "outputs": []
    },
    {
      "cell_type": "code",
      "metadata": {
        "id": "2zVNnBFmscPS"
      },
      "source": [
        "import datetime\n",
        "trade=0\n",
        "Trade_Buy= pd.DataFrame(columns=['Trade_Date'])\n",
        "for i in range(len(options_Buy)):\n",
        "    if (trade==0) & (options_Buy['Time'][i]>=options_Buy['Entry_Time'][i]) & (options_Buy['Time'][i]<datetime.datetime.strptime('10:10:00', '%H:%M:%S').time()):\n",
        "        Entry_Price=options_Buy['Open'][i]\n",
        "        Entry_Time=options_Buy['Time'][i]\n",
        "        Entry_Date=options_Buy['Date'][i]\n",
        "        trade=1\n",
        "        continue\n",
        "    if (trade==1):\n",
        "        if (options_Buy['Exit_Type'][i]=='day_exit') & (Entry_Date==options_Buy['Date'][i]) & (options_Buy['Time'][i]>=options_Buy['Exit_Time'][i]):\n",
        "            Exit_Price=options_Buy['Open'][i]\n",
        "            Exit_Time=options_Buy['Time'][i]\n",
        "            trade=0\n",
        "            Trade_Buy = Trade_Buy.append({'Trade_Date':options_Buy['Date'][i],\n",
        "                                  'Option_type':options_Buy['Option_type'][i],\n",
        "                                  'Strike_Price':options_Buy['Strike_Price'][i],\n",
        "                                  'Entry_Price':Entry_Price,\n",
        "                                  'Exit_Price':Exit_Price,\n",
        "                                  'Entry_Time':Entry_Time,\n",
        "                                  'Exit_Time':Exit_Time,\n",
        "                                  'sale_type':'Buy_option',\n",
        "                                  'Exit_Type':options_Buy['Exit_Type'][i],\n",
        "                                  \"pnl\":(Exit_Price-Entry_Price)},\n",
        "                                 ignore_index=True)\n",
        "            continue\n",
        "        elif (options_Buy['Exit_Type'][i]=='sl_exit') & (Entry_Date==options_Buy['Date'][i]) & (options_Buy['Time'][i]>=options_Buy['Exit_Time'][i]):\n",
        "            Exit_Price=options_Buy['Close'][i]\n",
        "            Exit_Time=options_Buy['Time'][i]\n",
        "            trade=0\n",
        "            Trade_Buy = Trade_Buy.append({'Trade_Date':options_Buy['Date'][i],\n",
        "                                  'Option_type':options_Buy['Option_type'][i],\n",
        "                                  'Strike_Price':options_Buy['Strike_Price'][i],\n",
        "                                  'Entry_Price':Entry_Price,\n",
        "                                  'Exit_Price':Exit_Price,\n",
        "                                  'Entry_Time':Entry_Time,\n",
        "                                  'Exit_Time':Exit_Time,\n",
        "                                  'sale_type':'Buy_option',\n",
        "                                  'Exit_Type':options_Buy['Exit_Type'][i],\n",
        "                                  \"pnl\":(Exit_Price-Entry_Price)},\n",
        "                                 ignore_index=True)\n",
        "            continue\n",
        "        elif (Entry_Date!=options_Buy['Date'][i]):\n",
        "            trade=0"
      ],
      "execution_count": null,
      "outputs": []
    }
  ]
}
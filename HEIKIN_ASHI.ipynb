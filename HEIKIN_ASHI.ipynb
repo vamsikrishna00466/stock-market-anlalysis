{
  "nbformat": 4,
  "nbformat_minor": 0,
  "metadata": {
    "colab": {
      "name": "HEIKIN ASHI.ipynb",
      "provenance": [],
      "authorship_tag": "ABX9TyOVSaBLul03bHPNiFnauEvo",
      "include_colab_link": true
    },
    "kernelspec": {
      "name": "python3",
      "display_name": "Python 3"
    },
    "language_info": {
      "name": "python"
    }
  },
  "cells": [
    {
      "cell_type": "markdown",
      "metadata": {
        "id": "view-in-github",
        "colab_type": "text"
      },
      "source": [
        "<a href=\"https://colab.research.google.com/github/vamsikrishna00466/stock-market-anlalysis/blob/main/HEIKIN_ASHI.ipynb\" target=\"_parent\"><img src=\"https://colab.research.google.com/assets/colab-badge.svg\" alt=\"Open In Colab\"/></a>"
      ]
    },
    {
      "cell_type": "code",
      "metadata": {
        "colab": {
          "base_uri": "https://localhost:8080/"
        },
        "id": "NOPGhEEnug0l",
        "outputId": "0f0987b3-cda6-4936-a910-6e5c6073816c"
      },
      "source": [
        "pip install mysql-connector-python-rf"
      ],
      "execution_count": 1,
      "outputs": [
        {
          "output_type": "stream",
          "text": [
            "Collecting mysql-connector-python-rf\n",
            "\u001b[?25l  Downloading https://files.pythonhosted.org/packages/21/79/2ff01ab7aa08db3a16b70b990c579c1024c6b2a734263cc7513a758867de/mysql-connector-python-rf-2.2.2.tar.gz (11.9MB)\n",
            "\u001b[K     |████████████████████████████████| 11.9MB 5.9MB/s \n",
            "\u001b[?25hBuilding wheels for collected packages: mysql-connector-python-rf\n",
            "  Building wheel for mysql-connector-python-rf (setup.py) ... \u001b[?25l\u001b[?25hdone\n",
            "  Created wheel for mysql-connector-python-rf: filename=mysql_connector_python_rf-2.2.2-cp37-cp37m-linux_x86_64.whl size=249456 sha256=0a4da8d2aa701208963d9caa29d1ee03040bc059edfaa913872c51211f8a7c3e\n",
            "  Stored in directory: /root/.cache/pip/wheels/87/58/fb/d95c84fad7e1bebfed324c13e107ebb08e1997c9226532859a\n",
            "Successfully built mysql-connector-python-rf\n",
            "Installing collected packages: mysql-connector-python-rf\n",
            "Successfully installed mysql-connector-python-rf-2.2.2\n"
          ],
          "name": "stdout"
        }
      ]
    },
    {
      "cell_type": "code",
      "metadata": {
        "id": "9Sy630DluiYh"
      },
      "source": [
        "#importing relevant libraries\n",
        "import os\n",
        "import pandas as pd\n",
        "import numpy as np\n",
        "import datetime\n",
        "from matplotlib import pyplot as plt\n",
        "import operator\n",
        "import decimal\n",
        "import time\n",
        "import mysql.connector as mysql\n",
        "from math import floor\n",
        "import itertools\n",
        "import warnings\n",
        "warnings.filterwarnings('ignore')"
      ],
      "execution_count": 2,
      "outputs": []
    },
    {
      "cell_type": "code",
      "metadata": {
        "id": "kuiVNdf44NQu"
      },
      "source": [
        "df=df[['ins_date', 'open', 'high', 'low', 'close']]"
      ],
      "execution_count": 4,
      "outputs": []
    },
    {
      "cell_type": "code",
      "metadata": {
        "id": "RxuWvbNI-Rs1"
      },
      "source": [
        "df_original=df.copy()"
      ],
      "execution_count": 5,
      "outputs": []
    },
    {
      "cell_type": "code",
      "metadata": {
        "colab": {
          "base_uri": "https://localhost:8080/",
          "height": 204
        },
        "id": "EHM3XD9xxY0L",
        "outputId": "346a36f5-be06-4c3c-94f3-3d64610c4aae"
      },
      "source": [
        "df.tail()"
      ],
      "execution_count": 6,
      "outputs": [
        {
          "output_type": "execute_result",
          "data": {
            "text/html": [
              "<div>\n",
              "<style scoped>\n",
              "    .dataframe tbody tr th:only-of-type {\n",
              "        vertical-align: middle;\n",
              "    }\n",
              "\n",
              "    .dataframe tbody tr th {\n",
              "        vertical-align: top;\n",
              "    }\n",
              "\n",
              "    .dataframe thead th {\n",
              "        text-align: right;\n",
              "    }\n",
              "</style>\n",
              "<table border=\"1\" class=\"dataframe\">\n",
              "  <thead>\n",
              "    <tr style=\"text-align: right;\">\n",
              "      <th></th>\n",
              "      <th>ins_date</th>\n",
              "      <th>open</th>\n",
              "      <th>high</th>\n",
              "      <th>low</th>\n",
              "      <th>close</th>\n",
              "    </tr>\n",
              "  </thead>\n",
              "  <tbody>\n",
              "    <tr>\n",
              "      <th>1145177</th>\n",
              "      <td>2021-03-19 09:57:00</td>\n",
              "      <td>34092.80</td>\n",
              "      <td>34098.50</td>\n",
              "      <td>34084.20</td>\n",
              "      <td>34089.15</td>\n",
              "    </tr>\n",
              "    <tr>\n",
              "      <th>1145178</th>\n",
              "      <td>2021-03-19 09:58:00</td>\n",
              "      <td>34085.75</td>\n",
              "      <td>34103.70</td>\n",
              "      <td>34083.80</td>\n",
              "      <td>34103.70</td>\n",
              "    </tr>\n",
              "    <tr>\n",
              "      <th>1145179</th>\n",
              "      <td>2021-03-19 09:58:00</td>\n",
              "      <td>34085.75</td>\n",
              "      <td>34103.70</td>\n",
              "      <td>34083.80</td>\n",
              "      <td>34103.70</td>\n",
              "    </tr>\n",
              "    <tr>\n",
              "      <th>1145180</th>\n",
              "      <td>2021-03-19 09:59:00</td>\n",
              "      <td>34096.90</td>\n",
              "      <td>34124.30</td>\n",
              "      <td>34095.50</td>\n",
              "      <td>34115.10</td>\n",
              "    </tr>\n",
              "    <tr>\n",
              "      <th>1145181</th>\n",
              "      <td>2021-03-19 09:59:00</td>\n",
              "      <td>34096.90</td>\n",
              "      <td>34124.30</td>\n",
              "      <td>34095.50</td>\n",
              "      <td>34115.10</td>\n",
              "    </tr>\n",
              "  </tbody>\n",
              "</table>\n",
              "</div>"
            ],
            "text/plain": [
              "                   ins_date      open      high       low     close\n",
              "1145177 2021-03-19 09:57:00  34092.80  34098.50  34084.20  34089.15\n",
              "1145178 2021-03-19 09:58:00  34085.75  34103.70  34083.80  34103.70\n",
              "1145179 2021-03-19 09:58:00  34085.75  34103.70  34083.80  34103.70\n",
              "1145180 2021-03-19 09:59:00  34096.90  34124.30  34095.50  34115.10\n",
              "1145181 2021-03-19 09:59:00  34096.90  34124.30  34095.50  34115.10"
            ]
          },
          "metadata": {
            "tags": []
          },
          "execution_count": 6
        }
      ]
    },
    {
      "cell_type": "code",
      "metadata": {
        "id": "AZ1g79De-MI3"
      },
      "source": [
        "#remove duplicates\n",
        "df1 = df.drop_duplicates(keep='last')\n",
        "df1=df1.reset_index()\n",
        "df1=df1[['ins_date','open','high','low','close']]"
      ],
      "execution_count": 7,
      "outputs": []
    },
    {
      "cell_type": "code",
      "metadata": {
        "colab": {
          "base_uri": "https://localhost:8080/",
          "height": 204
        },
        "id": "tDxG-QP8-ngW",
        "outputId": "526c0a6e-32ae-48d4-d901-4abfc0e62f75"
      },
      "source": [
        "df1.tail()"
      ],
      "execution_count": 8,
      "outputs": [
        {
          "output_type": "execute_result",
          "data": {
            "text/html": [
              "<div>\n",
              "<style scoped>\n",
              "    .dataframe tbody tr th:only-of-type {\n",
              "        vertical-align: middle;\n",
              "    }\n",
              "\n",
              "    .dataframe tbody tr th {\n",
              "        vertical-align: top;\n",
              "    }\n",
              "\n",
              "    .dataframe thead th {\n",
              "        text-align: right;\n",
              "    }\n",
              "</style>\n",
              "<table border=\"1\" class=\"dataframe\">\n",
              "  <thead>\n",
              "    <tr style=\"text-align: right;\">\n",
              "      <th></th>\n",
              "      <th>ins_date</th>\n",
              "      <th>open</th>\n",
              "      <th>high</th>\n",
              "      <th>low</th>\n",
              "      <th>close</th>\n",
              "    </tr>\n",
              "  </thead>\n",
              "  <tbody>\n",
              "    <tr>\n",
              "      <th>572588</th>\n",
              "      <td>2021-03-19 09:55:00</td>\n",
              "      <td>34050.90</td>\n",
              "      <td>34070.15</td>\n",
              "      <td>34038.95</td>\n",
              "      <td>34069.80</td>\n",
              "    </tr>\n",
              "    <tr>\n",
              "      <th>572589</th>\n",
              "      <td>2021-03-19 09:56:00</td>\n",
              "      <td>34069.10</td>\n",
              "      <td>34097.40</td>\n",
              "      <td>34067.20</td>\n",
              "      <td>34094.35</td>\n",
              "    </tr>\n",
              "    <tr>\n",
              "      <th>572590</th>\n",
              "      <td>2021-03-19 09:57:00</td>\n",
              "      <td>34092.80</td>\n",
              "      <td>34098.50</td>\n",
              "      <td>34084.20</td>\n",
              "      <td>34089.15</td>\n",
              "    </tr>\n",
              "    <tr>\n",
              "      <th>572591</th>\n",
              "      <td>2021-03-19 09:58:00</td>\n",
              "      <td>34085.75</td>\n",
              "      <td>34103.70</td>\n",
              "      <td>34083.80</td>\n",
              "      <td>34103.70</td>\n",
              "    </tr>\n",
              "    <tr>\n",
              "      <th>572592</th>\n",
              "      <td>2021-03-19 09:59:00</td>\n",
              "      <td>34096.90</td>\n",
              "      <td>34124.30</td>\n",
              "      <td>34095.50</td>\n",
              "      <td>34115.10</td>\n",
              "    </tr>\n",
              "  </tbody>\n",
              "</table>\n",
              "</div>"
            ],
            "text/plain": [
              "                  ins_date      open      high       low     close\n",
              "572588 2021-03-19 09:55:00  34050.90  34070.15  34038.95  34069.80\n",
              "572589 2021-03-19 09:56:00  34069.10  34097.40  34067.20  34094.35\n",
              "572590 2021-03-19 09:57:00  34092.80  34098.50  34084.20  34089.15\n",
              "572591 2021-03-19 09:58:00  34085.75  34103.70  34083.80  34103.70\n",
              "572592 2021-03-19 09:59:00  34096.90  34124.30  34095.50  34115.10"
            ]
          },
          "metadata": {
            "tags": []
          },
          "execution_count": 8
        }
      ]
    },
    {
      "cell_type": "code",
      "metadata": {
        "colab": {
          "base_uri": "https://localhost:8080/"
        },
        "id": "iFm-10JF_riw",
        "outputId": "138f0d64-ba3e-4e0c-db4c-d074712c41e1"
      },
      "source": [
        "df1.info()"
      ],
      "execution_count": 9,
      "outputs": [
        {
          "output_type": "stream",
          "text": [
            "<class 'pandas.core.frame.DataFrame'>\n",
            "RangeIndex: 572593 entries, 0 to 572592\n",
            "Data columns (total 5 columns):\n",
            " #   Column    Non-Null Count   Dtype         \n",
            "---  ------    --------------   -----         \n",
            " 0   ins_date  572593 non-null  datetime64[ns]\n",
            " 1   open      572593 non-null  object        \n",
            " 2   high      572593 non-null  object        \n",
            " 3   low       572593 non-null  object        \n",
            " 4   close     572593 non-null  object        \n",
            "dtypes: datetime64[ns](1), object(4)\n",
            "memory usage: 21.8+ MB\n"
          ],
          "name": "stdout"
        }
      ]
    },
    {
      "cell_type": "code",
      "metadata": {
        "id": "Oi5UCiwoAF9-"
      },
      "source": [
        "#change the time zone\n",
        "df1['ins_date'] = df1['ins_date'].dt.tz_localize('GMT').dt.tz_convert('Asia/Kolkata')"
      ],
      "execution_count": 10,
      "outputs": []
    },
    {
      "cell_type": "code",
      "metadata": {
        "colab": {
          "base_uri": "https://localhost:8080/",
          "height": 204
        },
        "id": "qGw9W4KhBDd8",
        "outputId": "5325dc4f-3893-41c4-8dd5-e15b91fc0716"
      },
      "source": [
        "df1.head()"
      ],
      "execution_count": 11,
      "outputs": [
        {
          "output_type": "execute_result",
          "data": {
            "text/html": [
              "<div>\n",
              "<style scoped>\n",
              "    .dataframe tbody tr th:only-of-type {\n",
              "        vertical-align: middle;\n",
              "    }\n",
              "\n",
              "    .dataframe tbody tr th {\n",
              "        vertical-align: top;\n",
              "    }\n",
              "\n",
              "    .dataframe thead th {\n",
              "        text-align: right;\n",
              "    }\n",
              "</style>\n",
              "<table border=\"1\" class=\"dataframe\">\n",
              "  <thead>\n",
              "    <tr style=\"text-align: right;\">\n",
              "      <th></th>\n",
              "      <th>ins_date</th>\n",
              "      <th>open</th>\n",
              "      <th>high</th>\n",
              "      <th>low</th>\n",
              "      <th>close</th>\n",
              "    </tr>\n",
              "  </thead>\n",
              "  <tbody>\n",
              "    <tr>\n",
              "      <th>0</th>\n",
              "      <td>2015-01-09 09:15:00+05:30</td>\n",
              "      <td>18845.90</td>\n",
              "      <td>18845.90</td>\n",
              "      <td>18801.70</td>\n",
              "      <td>18801.70</td>\n",
              "    </tr>\n",
              "    <tr>\n",
              "      <th>1</th>\n",
              "      <td>2015-01-09 09:16:00+05:30</td>\n",
              "      <td>18801.70</td>\n",
              "      <td>18806.05</td>\n",
              "      <td>18790.20</td>\n",
              "      <td>18794.65</td>\n",
              "    </tr>\n",
              "    <tr>\n",
              "      <th>2</th>\n",
              "      <td>2015-01-09 09:17:00+05:30</td>\n",
              "      <td>18796.00</td>\n",
              "      <td>18829.00</td>\n",
              "      <td>18794.65</td>\n",
              "      <td>18827.30</td>\n",
              "    </tr>\n",
              "    <tr>\n",
              "      <th>3</th>\n",
              "      <td>2015-01-09 09:18:00+05:30</td>\n",
              "      <td>18827.30</td>\n",
              "      <td>18864.00</td>\n",
              "      <td>18827.30</td>\n",
              "      <td>18862.10</td>\n",
              "    </tr>\n",
              "    <tr>\n",
              "      <th>4</th>\n",
              "      <td>2015-01-09 09:19:00+05:30</td>\n",
              "      <td>18862.10</td>\n",
              "      <td>18862.10</td>\n",
              "      <td>18843.55</td>\n",
              "      <td>18849.25</td>\n",
              "    </tr>\n",
              "  </tbody>\n",
              "</table>\n",
              "</div>"
            ],
            "text/plain": [
              "                   ins_date      open      high       low     close\n",
              "0 2015-01-09 09:15:00+05:30  18845.90  18845.90  18801.70  18801.70\n",
              "1 2015-01-09 09:16:00+05:30  18801.70  18806.05  18790.20  18794.65\n",
              "2 2015-01-09 09:17:00+05:30  18796.00  18829.00  18794.65  18827.30\n",
              "3 2015-01-09 09:18:00+05:30  18827.30  18864.00  18827.30  18862.10\n",
              "4 2015-01-09 09:19:00+05:30  18862.10  18862.10  18843.55  18849.25"
            ]
          },
          "metadata": {
            "tags": []
          },
          "execution_count": 11
        }
      ]
    },
    {
      "cell_type": "code",
      "metadata": {
        "id": "sL4TzGC4CsKR"
      },
      "source": [
        "#df1[\"time\"] = list(map(lambda x: x[18:],df1[\"ins_date\"].astype(str)))\n",
        "df1[\"date\"] = list(map(lambda x: x[:19],df1[\"ins_date\"].astype(str)))"
      ],
      "execution_count": 12,
      "outputs": []
    },
    {
      "cell_type": "code",
      "metadata": {
        "id": "6Jpm9Uv3DWg1"
      },
      "source": [
        "df1[\"time\"] = list(map(lambda x: x[11:],df1[\"date\"].astype(str)))\n",
        "df1[\"date1\"] = list(map(lambda x: x[:10],df1[\"date\"].astype(str)))\n"
      ],
      "execution_count": 13,
      "outputs": []
    },
    {
      "cell_type": "code",
      "metadata": {
        "colab": {
          "base_uri": "https://localhost:8080/",
          "height": 204
        },
        "id": "uM0Me69NUQlw",
        "outputId": "a1401ef4-7022-4d0e-d9c0-e481a99cafc0"
      },
      "source": [
        "df1.tail()"
      ],
      "execution_count": 14,
      "outputs": [
        {
          "output_type": "execute_result",
          "data": {
            "text/html": [
              "<div>\n",
              "<style scoped>\n",
              "    .dataframe tbody tr th:only-of-type {\n",
              "        vertical-align: middle;\n",
              "    }\n",
              "\n",
              "    .dataframe tbody tr th {\n",
              "        vertical-align: top;\n",
              "    }\n",
              "\n",
              "    .dataframe thead th {\n",
              "        text-align: right;\n",
              "    }\n",
              "</style>\n",
              "<table border=\"1\" class=\"dataframe\">\n",
              "  <thead>\n",
              "    <tr style=\"text-align: right;\">\n",
              "      <th></th>\n",
              "      <th>ins_date</th>\n",
              "      <th>open</th>\n",
              "      <th>high</th>\n",
              "      <th>low</th>\n",
              "      <th>close</th>\n",
              "      <th>date</th>\n",
              "      <th>time</th>\n",
              "      <th>date1</th>\n",
              "    </tr>\n",
              "  </thead>\n",
              "  <tbody>\n",
              "    <tr>\n",
              "      <th>572588</th>\n",
              "      <td>2021-03-19 15:25:00+05:30</td>\n",
              "      <td>34050.90</td>\n",
              "      <td>34070.15</td>\n",
              "      <td>34038.95</td>\n",
              "      <td>34069.80</td>\n",
              "      <td>2021-03-19 15:25:00</td>\n",
              "      <td>15:25:00</td>\n",
              "      <td>2021-03-19</td>\n",
              "    </tr>\n",
              "    <tr>\n",
              "      <th>572589</th>\n",
              "      <td>2021-03-19 15:26:00+05:30</td>\n",
              "      <td>34069.10</td>\n",
              "      <td>34097.40</td>\n",
              "      <td>34067.20</td>\n",
              "      <td>34094.35</td>\n",
              "      <td>2021-03-19 15:26:00</td>\n",
              "      <td>15:26:00</td>\n",
              "      <td>2021-03-19</td>\n",
              "    </tr>\n",
              "    <tr>\n",
              "      <th>572590</th>\n",
              "      <td>2021-03-19 15:27:00+05:30</td>\n",
              "      <td>34092.80</td>\n",
              "      <td>34098.50</td>\n",
              "      <td>34084.20</td>\n",
              "      <td>34089.15</td>\n",
              "      <td>2021-03-19 15:27:00</td>\n",
              "      <td>15:27:00</td>\n",
              "      <td>2021-03-19</td>\n",
              "    </tr>\n",
              "    <tr>\n",
              "      <th>572591</th>\n",
              "      <td>2021-03-19 15:28:00+05:30</td>\n",
              "      <td>34085.75</td>\n",
              "      <td>34103.70</td>\n",
              "      <td>34083.80</td>\n",
              "      <td>34103.70</td>\n",
              "      <td>2021-03-19 15:28:00</td>\n",
              "      <td>15:28:00</td>\n",
              "      <td>2021-03-19</td>\n",
              "    </tr>\n",
              "    <tr>\n",
              "      <th>572592</th>\n",
              "      <td>2021-03-19 15:29:00+05:30</td>\n",
              "      <td>34096.90</td>\n",
              "      <td>34124.30</td>\n",
              "      <td>34095.50</td>\n",
              "      <td>34115.10</td>\n",
              "      <td>2021-03-19 15:29:00</td>\n",
              "      <td>15:29:00</td>\n",
              "      <td>2021-03-19</td>\n",
              "    </tr>\n",
              "  </tbody>\n",
              "</table>\n",
              "</div>"
            ],
            "text/plain": [
              "                        ins_date      open  ...      time       date1\n",
              "572588 2021-03-19 15:25:00+05:30  34050.90  ...  15:25:00  2021-03-19\n",
              "572589 2021-03-19 15:26:00+05:30  34069.10  ...  15:26:00  2021-03-19\n",
              "572590 2021-03-19 15:27:00+05:30  34092.80  ...  15:27:00  2021-03-19\n",
              "572591 2021-03-19 15:28:00+05:30  34085.75  ...  15:28:00  2021-03-19\n",
              "572592 2021-03-19 15:29:00+05:30  34096.90  ...  15:29:00  2021-03-19\n",
              "\n",
              "[5 rows x 8 columns]"
            ]
          },
          "metadata": {
            "tags": []
          },
          "execution_count": 14
        }
      ]
    },
    {
      "cell_type": "code",
      "metadata": {
        "id": "70FnmK17En2-"
      },
      "source": [
        "df2=df1.loc[df1['time']== '10:15:00']\n",
        "df2=df2.reset_index()\n",
        "df2 =df2[['date', 'open', 'high', 'low', 'close', 'time', 'date1']]"
      ],
      "execution_count": 42,
      "outputs": []
    },
    {
      "cell_type": "code",
      "metadata": {
        "id": "hWAzaK1TJI1O"
      },
      "source": [
        "#df3=df1.loc[df1['time']== '10:00:00']\n",
        "#df3=df3.reset_index()\n",
        "#df3 =df3[['date', 'open', 'high', 'low', 'close', 'time', 'date1']]"
      ],
      "execution_count": 43,
      "outputs": []
    },
    {
      "cell_type": "code",
      "metadata": {
        "colab": {
          "base_uri": "https://localhost:8080/",
          "height": 204
        },
        "id": "EtPa41dQBLzd",
        "outputId": "80a2bead-8e9c-47b5-8266-b16429a4da4e"
      },
      "source": [
        "df2.tail()"
      ],
      "execution_count": 44,
      "outputs": [
        {
          "output_type": "execute_result",
          "data": {
            "text/html": [
              "<div>\n",
              "<style scoped>\n",
              "    .dataframe tbody tr th:only-of-type {\n",
              "        vertical-align: middle;\n",
              "    }\n",
              "\n",
              "    .dataframe tbody tr th {\n",
              "        vertical-align: top;\n",
              "    }\n",
              "\n",
              "    .dataframe thead th {\n",
              "        text-align: right;\n",
              "    }\n",
              "</style>\n",
              "<table border=\"1\" class=\"dataframe\">\n",
              "  <thead>\n",
              "    <tr style=\"text-align: right;\">\n",
              "      <th></th>\n",
              "      <th>date</th>\n",
              "      <th>open</th>\n",
              "      <th>high</th>\n",
              "      <th>low</th>\n",
              "      <th>close</th>\n",
              "      <th>time</th>\n",
              "      <th>date1</th>\n",
              "    </tr>\n",
              "  </thead>\n",
              "  <tbody>\n",
              "    <tr>\n",
              "      <th>1521</th>\n",
              "      <td>2021-03-15 10:15:00</td>\n",
              "      <td>34795.20</td>\n",
              "      <td>34795.20</td>\n",
              "      <td>34736.10</td>\n",
              "      <td>34738.95</td>\n",
              "      <td>10:15:00</td>\n",
              "      <td>2021-03-15</td>\n",
              "    </tr>\n",
              "    <tr>\n",
              "      <th>1522</th>\n",
              "      <td>2021-03-16 10:15:00</td>\n",
              "      <td>35110.15</td>\n",
              "      <td>35116.15</td>\n",
              "      <td>35096.65</td>\n",
              "      <td>35114.85</td>\n",
              "      <td>10:15:00</td>\n",
              "      <td>2021-03-16</td>\n",
              "    </tr>\n",
              "    <tr>\n",
              "      <th>1523</th>\n",
              "      <td>2021-03-17 10:15:00</td>\n",
              "      <td>34680.00</td>\n",
              "      <td>34692.05</td>\n",
              "      <td>34665.10</td>\n",
              "      <td>34665.10</td>\n",
              "      <td>10:15:00</td>\n",
              "      <td>2021-03-17</td>\n",
              "    </tr>\n",
              "    <tr>\n",
              "      <th>1524</th>\n",
              "      <td>2021-03-18 10:15:00</td>\n",
              "      <td>34599.80</td>\n",
              "      <td>34635.60</td>\n",
              "      <td>34596.50</td>\n",
              "      <td>34635.00</td>\n",
              "      <td>10:15:00</td>\n",
              "      <td>2021-03-18</td>\n",
              "    </tr>\n",
              "    <tr>\n",
              "      <th>1525</th>\n",
              "      <td>2021-03-19 10:15:00</td>\n",
              "      <td>33795.70</td>\n",
              "      <td>33831.85</td>\n",
              "      <td>33790.35</td>\n",
              "      <td>33809.60</td>\n",
              "      <td>10:15:00</td>\n",
              "      <td>2021-03-19</td>\n",
              "    </tr>\n",
              "  </tbody>\n",
              "</table>\n",
              "</div>"
            ],
            "text/plain": [
              "                     date      open      high  ...     close      time       date1\n",
              "1521  2021-03-15 10:15:00  34795.20  34795.20  ...  34738.95  10:15:00  2021-03-15\n",
              "1522  2021-03-16 10:15:00  35110.15  35116.15  ...  35114.85  10:15:00  2021-03-16\n",
              "1523  2021-03-17 10:15:00  34680.00  34692.05  ...  34665.10  10:15:00  2021-03-17\n",
              "1524  2021-03-18 10:15:00  34599.80  34635.60  ...  34635.00  10:15:00  2021-03-18\n",
              "1525  2021-03-19 10:15:00  33795.70  33831.85  ...  33809.60  10:15:00  2021-03-19\n",
              "\n",
              "[5 rows x 7 columns]"
            ]
          },
          "metadata": {
            "tags": []
          },
          "execution_count": 44
        }
      ]
    },
    {
      "cell_type": "code",
      "metadata": {
        "id": "9kkL87ioE-x2"
      },
      "source": [
        "#close_HEIKIN\n",
        "n=0\n",
        "df2['close_HEIKIN']=np.nan\n",
        "for i in range(n,len(df2)):\n",
        "  df2['close_HEIKIN'][i] =df2['close'][i]+df2['high'][i]+df2['low'][i]+df2['open'][i]\n",
        "n=0\n",
        "m=4\n",
        "for i in range(n,len(df2)):\n",
        "  df2['close_HEIKIN'][i] =df2['close_HEIKIN'][i]/m\n",
        "\n",
        "#open_aHEIKIN\n",
        "n=1\n",
        "n=0\n",
        "df2['open_HEIKIN']=np.nan\n",
        "for i in range(n,len(df2)):\n",
        "  df2['open_HEIKIN'][0] =df2['open'][0]\n",
        "n=1\n",
        "for i in range(n,len(df2)):\n",
        "  df2['open_HEIKIN'][i] =df2['open'][i-1]+df2['close'][i-1]\n",
        "n=1\n",
        "m=2\n",
        "for i in range(n,len(df2)):\n",
        "  df2['open_HEIKIN'][i] =df2['open_HEIKIN'][i]/m\n",
        "\n",
        "#high_HEIKIN and low_HEIKIN\n",
        "df2['high_HEIKIN']=np.nan\n",
        "df2['high_HEIKIN'] = df2[['open_HEIKIN','close_HEIKIN','high']].max(axis=1)\n",
        "df2['low_HEIKIN']=np.nan\n",
        "df2['low_HEIKIN'] = df2[['open_HEIKIN','close_HEIKIN','low']].min(axis=1)"
      ],
      "execution_count": 53,
      "outputs": []
    },
    {
      "cell_type": "code",
      "metadata": {
        "colab": {
          "base_uri": "https://localhost:8080/",
          "height": 204
        },
        "id": "scth28qzRHC-",
        "outputId": "da2f58b8-7884-494b-b560-ef5b9722016e"
      },
      "source": [
        "df2.head()"
      ],
      "execution_count": 54,
      "outputs": [
        {
          "output_type": "execute_result",
          "data": {
            "text/html": [
              "<div>\n",
              "<style scoped>\n",
              "    .dataframe tbody tr th:only-of-type {\n",
              "        vertical-align: middle;\n",
              "    }\n",
              "\n",
              "    .dataframe tbody tr th {\n",
              "        vertical-align: top;\n",
              "    }\n",
              "\n",
              "    .dataframe thead th {\n",
              "        text-align: right;\n",
              "    }\n",
              "</style>\n",
              "<table border=\"1\" class=\"dataframe\">\n",
              "  <thead>\n",
              "    <tr style=\"text-align: right;\">\n",
              "      <th></th>\n",
              "      <th>date</th>\n",
              "      <th>open</th>\n",
              "      <th>high</th>\n",
              "      <th>low</th>\n",
              "      <th>close</th>\n",
              "      <th>time</th>\n",
              "      <th>date1</th>\n",
              "      <th>close_HEIKIN</th>\n",
              "      <th>open_HEIKIN</th>\n",
              "      <th>high_HEIKIN</th>\n",
              "      <th>low_HEIKIN</th>\n",
              "    </tr>\n",
              "  </thead>\n",
              "  <tbody>\n",
              "    <tr>\n",
              "      <th>0</th>\n",
              "      <td>2015-01-09 10:15:00</td>\n",
              "      <td>18781.15</td>\n",
              "      <td>18792.20</td>\n",
              "      <td>18781.15</td>\n",
              "      <td>18786.70</td>\n",
              "      <td>10:15:00</td>\n",
              "      <td>2015-01-09</td>\n",
              "      <td>18785.3000</td>\n",
              "      <td>18781.150</td>\n",
              "      <td>18792.200</td>\n",
              "      <td>18781.150</td>\n",
              "    </tr>\n",
              "    <tr>\n",
              "      <th>1</th>\n",
              "      <td>2015-01-12 10:15:00</td>\n",
              "      <td>18748.15</td>\n",
              "      <td>18752.65</td>\n",
              "      <td>18742.80</td>\n",
              "      <td>18752.65</td>\n",
              "      <td>10:15:00</td>\n",
              "      <td>2015-01-12</td>\n",
              "      <td>18749.0625</td>\n",
              "      <td>18783.925</td>\n",
              "      <td>18783.925</td>\n",
              "      <td>18742.800</td>\n",
              "    </tr>\n",
              "    <tr>\n",
              "      <th>2</th>\n",
              "      <td>2015-01-13 10:15:00</td>\n",
              "      <td>18889.90</td>\n",
              "      <td>18889.90</td>\n",
              "      <td>18882.10</td>\n",
              "      <td>18884.85</td>\n",
              "      <td>10:15:00</td>\n",
              "      <td>2015-01-13</td>\n",
              "      <td>18886.6875</td>\n",
              "      <td>18750.400</td>\n",
              "      <td>18889.900</td>\n",
              "      <td>18750.400</td>\n",
              "    </tr>\n",
              "    <tr>\n",
              "      <th>3</th>\n",
              "      <td>2015-01-14 10:15:00</td>\n",
              "      <td>18684.65</td>\n",
              "      <td>18684.95</td>\n",
              "      <td>18677.35</td>\n",
              "      <td>18681.00</td>\n",
              "      <td>10:15:00</td>\n",
              "      <td>2015-01-14</td>\n",
              "      <td>18681.9875</td>\n",
              "      <td>18887.375</td>\n",
              "      <td>18887.375</td>\n",
              "      <td>18677.350</td>\n",
              "    </tr>\n",
              "    <tr>\n",
              "      <th>4</th>\n",
              "      <td>2015-01-15 10:15:00</td>\n",
              "      <td>19084.15</td>\n",
              "      <td>19088.05</td>\n",
              "      <td>19073.35</td>\n",
              "      <td>19081.65</td>\n",
              "      <td>10:15:00</td>\n",
              "      <td>2015-01-15</td>\n",
              "      <td>19081.8000</td>\n",
              "      <td>18682.825</td>\n",
              "      <td>19088.050</td>\n",
              "      <td>18682.825</td>\n",
              "    </tr>\n",
              "  </tbody>\n",
              "</table>\n",
              "</div>"
            ],
            "text/plain": [
              "                  date      open  ... high_HEIKIN low_HEIKIN\n",
              "0  2015-01-09 10:15:00  18781.15  ...   18792.200  18781.150\n",
              "1  2015-01-12 10:15:00  18748.15  ...   18783.925  18742.800\n",
              "2  2015-01-13 10:15:00  18889.90  ...   18889.900  18750.400\n",
              "3  2015-01-14 10:15:00  18684.65  ...   18887.375  18677.350\n",
              "4  2015-01-15 10:15:00  19084.15  ...   19088.050  18682.825\n",
              "\n",
              "[5 rows x 11 columns]"
            ]
          },
          "metadata": {
            "tags": []
          },
          "execution_count": 54
        }
      ]
    },
    {
      "cell_type": "code",
      "metadata": {
        "colab": {
          "base_uri": "https://localhost:8080/"
        },
        "id": "NKUDvemgcQ7a",
        "outputId": "4b5e3190-8bca-4acb-e377-9fdc5c55f654"
      },
      "source": [
        "df2.info()"
      ],
      "execution_count": 55,
      "outputs": [
        {
          "output_type": "stream",
          "text": [
            "<class 'pandas.core.frame.DataFrame'>\n",
            "RangeIndex: 1526 entries, 0 to 1525\n",
            "Data columns (total 11 columns):\n",
            " #   Column        Non-Null Count  Dtype  \n",
            "---  ------        --------------  -----  \n",
            " 0   date          1526 non-null   object \n",
            " 1   open          1526 non-null   object \n",
            " 2   high          1526 non-null   object \n",
            " 3   low           1526 non-null   object \n",
            " 4   close         1526 non-null   object \n",
            " 5   time          1526 non-null   object \n",
            " 6   date1         1526 non-null   object \n",
            " 7   close_HEIKIN  1526 non-null   float64\n",
            " 8   open_HEIKIN   1526 non-null   float64\n",
            " 9   high_HEIKIN   1526 non-null   float64\n",
            " 10  low_HEIKIN    1526 non-null   float64\n",
            "dtypes: float64(4), object(7)\n",
            "memory usage: 131.3+ KB\n"
          ],
          "name": "stdout"
        }
      ]
    },
    {
      "cell_type": "code",
      "metadata": {
        "id": "dYHFQqxKZrWv"
      },
      "source": [
        "df2['open'] = df2['open'].astype('float')\n",
        "df2['high'] = df2['high'].astype('float')\n",
        "df2['low'] = df2['low'].astype('float')\n",
        "df2['close'] = df2['close'].astype('float')"
      ],
      "execution_count": 56,
      "outputs": []
    },
    {
      "cell_type": "code",
      "metadata": {
        "colab": {
          "base_uri": "https://localhost:8080/"
        },
        "id": "9QfUG7RicQ1b",
        "outputId": "843ec25f-3de1-4e39-b45d-9fd0b12ae2a3"
      },
      "source": [
        "df2.info()"
      ],
      "execution_count": 57,
      "outputs": [
        {
          "output_type": "stream",
          "text": [
            "<class 'pandas.core.frame.DataFrame'>\n",
            "RangeIndex: 1526 entries, 0 to 1525\n",
            "Data columns (total 11 columns):\n",
            " #   Column        Non-Null Count  Dtype  \n",
            "---  ------        --------------  -----  \n",
            " 0   date          1526 non-null   object \n",
            " 1   open          1526 non-null   float64\n",
            " 2   high          1526 non-null   float64\n",
            " 3   low           1526 non-null   float64\n",
            " 4   close         1526 non-null   float64\n",
            " 5   time          1526 non-null   object \n",
            " 6   date1         1526 non-null   object \n",
            " 7   close_HEIKIN  1526 non-null   float64\n",
            " 8   open_HEIKIN   1526 non-null   float64\n",
            " 9   high_HEIKIN   1526 non-null   float64\n",
            " 10  low_HEIKIN    1526 non-null   float64\n",
            "dtypes: float64(8), object(3)\n",
            "memory usage: 131.3+ KB\n"
          ],
          "name": "stdout"
        }
      ]
    },
    {
      "cell_type": "code",
      "metadata": {
        "id": "SP0H_BNcZggK"
      },
      "source": [
        "df2['candle_type']=np\n",
        "n=0\n",
        "for i in range(n, len(df2)):\n",
        "  if df2['open_HEIKIN'][i]<df2['close_HEIKIN'][i]:\n",
        "    df2['candle_type'][i]='Green'\n",
        "  else:\n",
        "    df2['candle_type'][i]='Red'"
      ],
      "execution_count": 58,
      "outputs": []
    },
    {
      "cell_type": "code",
      "metadata": {
        "colab": {
          "base_uri": "https://localhost:8080/"
        },
        "id": "qeB-nPXBcYV5",
        "outputId": "8786d81b-8fde-4594-cb92-b4a375fae8aa"
      },
      "source": [
        "df2.info()"
      ],
      "execution_count": 59,
      "outputs": [
        {
          "output_type": "stream",
          "text": [
            "<class 'pandas.core.frame.DataFrame'>\n",
            "RangeIndex: 1526 entries, 0 to 1525\n",
            "Data columns (total 12 columns):\n",
            " #   Column        Non-Null Count  Dtype  \n",
            "---  ------        --------------  -----  \n",
            " 0   date          1526 non-null   object \n",
            " 1   open          1526 non-null   float64\n",
            " 2   high          1526 non-null   float64\n",
            " 3   low           1526 non-null   float64\n",
            " 4   close         1526 non-null   float64\n",
            " 5   time          1526 non-null   object \n",
            " 6   date1         1526 non-null   object \n",
            " 7   close_HEIKIN  1526 non-null   float64\n",
            " 8   open_HEIKIN   1526 non-null   float64\n",
            " 9   high_HEIKIN   1526 non-null   float64\n",
            " 10  low_HEIKIN    1526 non-null   float64\n",
            " 11  candle_type   1526 non-null   object \n",
            "dtypes: float64(8), object(4)\n",
            "memory usage: 143.2+ KB\n"
          ],
          "name": "stdout"
        }
      ]
    },
    {
      "cell_type": "code",
      "metadata": {
        "id": "akmxoG1UchCu",
        "colab": {
          "base_uri": "https://localhost:8080/",
          "height": 204
        },
        "outputId": "5cc15d98-57a8-4c60-fe00-7b8b7987bd40"
      },
      "source": [
        "df2.tail()"
      ],
      "execution_count": 62,
      "outputs": [
        {
          "output_type": "execute_result",
          "data": {
            "text/html": [
              "<div>\n",
              "<style scoped>\n",
              "    .dataframe tbody tr th:only-of-type {\n",
              "        vertical-align: middle;\n",
              "    }\n",
              "\n",
              "    .dataframe tbody tr th {\n",
              "        vertical-align: top;\n",
              "    }\n",
              "\n",
              "    .dataframe thead th {\n",
              "        text-align: right;\n",
              "    }\n",
              "</style>\n",
              "<table border=\"1\" class=\"dataframe\">\n",
              "  <thead>\n",
              "    <tr style=\"text-align: right;\">\n",
              "      <th></th>\n",
              "      <th>date</th>\n",
              "      <th>open</th>\n",
              "      <th>high</th>\n",
              "      <th>low</th>\n",
              "      <th>close</th>\n",
              "      <th>time</th>\n",
              "      <th>date1</th>\n",
              "      <th>close_HEIKIN</th>\n",
              "      <th>open_HEIKIN</th>\n",
              "      <th>high_HEIKIN</th>\n",
              "      <th>low_HEIKIN</th>\n",
              "      <th>candle_type</th>\n",
              "    </tr>\n",
              "  </thead>\n",
              "  <tbody>\n",
              "    <tr>\n",
              "      <th>1521</th>\n",
              "      <td>2021-03-15 10:15:00</td>\n",
              "      <td>34795.20</td>\n",
              "      <td>34795.20</td>\n",
              "      <td>34736.10</td>\n",
              "      <td>34738.95</td>\n",
              "      <td>10:15:00</td>\n",
              "      <td>2021-03-15</td>\n",
              "      <td>34766.3625</td>\n",
              "      <td>36268.750</td>\n",
              "      <td>36268.75</td>\n",
              "      <td>34736.100</td>\n",
              "      <td>Red</td>\n",
              "    </tr>\n",
              "    <tr>\n",
              "      <th>1522</th>\n",
              "      <td>2021-03-16 10:15:00</td>\n",
              "      <td>35110.15</td>\n",
              "      <td>35116.15</td>\n",
              "      <td>35096.65</td>\n",
              "      <td>35114.85</td>\n",
              "      <td>10:15:00</td>\n",
              "      <td>2021-03-16</td>\n",
              "      <td>35109.4500</td>\n",
              "      <td>34767.075</td>\n",
              "      <td>35116.15</td>\n",
              "      <td>34767.075</td>\n",
              "      <td>Green</td>\n",
              "    </tr>\n",
              "    <tr>\n",
              "      <th>1523</th>\n",
              "      <td>2021-03-17 10:15:00</td>\n",
              "      <td>34680.00</td>\n",
              "      <td>34692.05</td>\n",
              "      <td>34665.10</td>\n",
              "      <td>34665.10</td>\n",
              "      <td>10:15:00</td>\n",
              "      <td>2021-03-17</td>\n",
              "      <td>34675.5625</td>\n",
              "      <td>35112.500</td>\n",
              "      <td>35112.50</td>\n",
              "      <td>34665.100</td>\n",
              "      <td>Red</td>\n",
              "    </tr>\n",
              "    <tr>\n",
              "      <th>1524</th>\n",
              "      <td>2021-03-18 10:15:00</td>\n",
              "      <td>34599.80</td>\n",
              "      <td>34635.60</td>\n",
              "      <td>34596.50</td>\n",
              "      <td>34635.00</td>\n",
              "      <td>10:15:00</td>\n",
              "      <td>2021-03-18</td>\n",
              "      <td>34616.7250</td>\n",
              "      <td>34672.550</td>\n",
              "      <td>34672.55</td>\n",
              "      <td>34596.500</td>\n",
              "      <td>Red</td>\n",
              "    </tr>\n",
              "    <tr>\n",
              "      <th>1525</th>\n",
              "      <td>2021-03-19 10:15:00</td>\n",
              "      <td>33795.70</td>\n",
              "      <td>33831.85</td>\n",
              "      <td>33790.35</td>\n",
              "      <td>33809.60</td>\n",
              "      <td>10:15:00</td>\n",
              "      <td>2021-03-19</td>\n",
              "      <td>33806.8750</td>\n",
              "      <td>34617.400</td>\n",
              "      <td>34617.40</td>\n",
              "      <td>33790.350</td>\n",
              "      <td>Red</td>\n",
              "    </tr>\n",
              "  </tbody>\n",
              "</table>\n",
              "</div>"
            ],
            "text/plain": [
              "                     date      open  ...  low_HEIKIN  candle_type\n",
              "1521  2021-03-15 10:15:00  34795.20  ...   34736.100          Red\n",
              "1522  2021-03-16 10:15:00  35110.15  ...   34767.075        Green\n",
              "1523  2021-03-17 10:15:00  34680.00  ...   34665.100          Red\n",
              "1524  2021-03-18 10:15:00  34599.80  ...   34596.500          Red\n",
              "1525  2021-03-19 10:15:00  33795.70  ...   33790.350          Red\n",
              "\n",
              "[5 rows x 12 columns]"
            ]
          },
          "metadata": {
            "tags": []
          },
          "execution_count": 62
        }
      ]
    },
    {
      "cell_type": "code",
      "metadata": {
        "id": "xz57eVu3dVrz"
      },
      "source": [
        "df2.to_excel(\"HEIKIN ASHI Candle1.xlsx\")"
      ],
      "execution_count": 65,
      "outputs": []
    },
    {
      "cell_type": "code",
      "metadata": {
        "id": "5mvhJKvqdxWF"
      },
      "source": [
        ""
      ],
      "execution_count": null,
      "outputs": []
    }
  ]
}
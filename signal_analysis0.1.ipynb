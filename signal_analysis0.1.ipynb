{
  "nbformat": 4,
  "nbformat_minor": 0,
  "metadata": {
    "colab": {
      "name": "st,uc.ipynb",
      "provenance": [],
      "authorship_tag": "ABX9TyOU3uoUk5dkC2Wvb2Ogxx5N",
      "include_colab_link": true
    },
    "kernelspec": {
      "name": "python3",
      "display_name": "Python 3"
    }
  },
  "cells": [
    {
      "cell_type": "markdown",
      "metadata": {
        "id": "view-in-github",
        "colab_type": "text"
      },
      "source": [
        "<a href=\"https://colab.research.google.com/github/vamsikrishna00466/stock-market-anlalysis/blob/main/signal_analysis0.1.ipynb\" target=\"_parent\"><img src=\"https://colab.research.google.com/assets/colab-badge.svg\" alt=\"Open In Colab\"/></a>"
      ]
    },
    {
      "cell_type": "code",
      "metadata": {
        "id": "zjZpV5t72y13"
      },
      "source": [
        "#df1.to_excel(\"sql_cash_data.xlsx\")\r\n",
        "#Creating a function to convert x min data to y min data.(x<y)\r\n",
        "def Change_Timeframe(data, timedelta):\r\n",
        "    \"\"\"\r\n",
        "    This function will convert 5min data to 15min data.\r\n",
        "    Parameters:\r\n",
        "    data: Cleaned data which contains a column named 'DateTime'.\r\n",
        "    timedelta: New timeframe in which you want to convert the data to.\r\n",
        "    \"\"\"\r\n",
        "    \r\n",
        "    \r\n",
        "    #We need to sort the index before resampling\r\n",
        "    data = data.copy()\r\n",
        "    data.set_index(data.DateTime,inplace=True)\r\n",
        "    data.sort_index(inplace=True)\r\n",
        "\r\n",
        "    #Creating a Dictionary to apply functions to various columns on resampling\r\n",
        "    aggregation_dict = {'script_name':'first',\r\n",
        "                        'open': 'first',\r\n",
        "                        'high': 'max',\r\n",
        "                        'low': 'min',\r\n",
        "                        'close': 'last',}\r\n",
        "\r\n",
        "    #Creating a Dictionary to change the names of the respective Columns\r\n",
        "    rename_dict = {'open':'Open_15',\r\n",
        "                   'high':'High_15',\r\n",
        "                   'low':'Low_15',\r\n",
        "                   'close':'Close_15',\r\n",
        "                   'script_name':'ScriptName'}\r\n",
        "\r\n",
        "    return (data\r\n",
        "            .resample(timedelta)\r\n",
        "            .agg(aggregation_dict)\r\n",
        "            .rename(columns=rename_dict)\r\n",
        "            .dropna()\r\n",
        "            .reset_index()\r\n",
        "    )\r\n",
        "\r\n",
        "\r\n",
        "\r\n",
        "\r\n",
        "def TrueRange(data):\r\n",
        "    data = data.copy()\r\n",
        "    data[\"TR\"] = np.nan\r\n",
        "    for i in range(1,len(data)):\r\n",
        "        h = data.loc[i,\"High_15\"]\r\n",
        "        l = data.loc[i,\"Low_15\"]\r\n",
        "        pc = data.loc[i-1,\"Close_15\"]\r\n",
        "        \r\n",
        "        x = h-l\r\n",
        "        y = abs(h-pc)\r\n",
        "        z = abs(l-pc)\r\n",
        "        \r\n",
        "        TR = max(x,y,z)\r\n",
        "        data.loc[i,\"TR\"] = TR\r\n",
        "    \r\n",
        "    return data\r\n",
        "\r\n",
        "def average_true_range(data, period=14, drop_tr=True, smoothing=\"SMA\"):\r\n",
        "    \"\"\"\r\n",
        "    Average True Range\r\n",
        "    :param data: Pandas Dataframe\r\n",
        "    :param period: Period for which the ATR needs to be calculated\r\n",
        "    :param drop_tr: Whether to drop the TR field\r\n",
        "    :param smoothing: Smoothing type - Possible values: RMA, SMA, EMA\r\n",
        "    :return: Pandas Dataframe with new column atr_<period>_<smoothing>. Ex: atr_14_sma\r\n",
        "    \"\"\"\r\n",
        "    data = data.copy()\r\n",
        "    if smoothing == \"RMA\":\r\n",
        "        data['atr_' + str(period) + '_' + str(smoothing)] = data['TR'].ewm(com=period - 1,\r\n",
        "                                                                           min_periods=period).mean()\r\n",
        "    elif smoothing == \"SMA\":\r\n",
        "        data['atr_' + str(period) + '_' + str(smoothing)] = data['TR'].rolling(window=period).mean()\r\n",
        "    elif smoothing == \"EMA\":\r\n",
        "        data['atr_' + str(period) + '_' + str(smoothing)] = data['TR'].ewm(span=period, adjust=False).mean()\r\n",
        "    \r\n",
        "    if drop_tr:\r\n",
        "        data.drop(['TR'], inplace=True, axis=1)\r\n",
        "    data = data.round(decimals=2)\r\n",
        "\r\n",
        "    return data\r\n"
      ],
      "execution_count": 16,
      "outputs": []
    },
    {
      "cell_type": "markdown",
      "metadata": {
        "id": "5LamKrm-doom"
      },
      "source": [
        ""
      ]
    },
    {
      "cell_type": "code",
      "metadata": {
        "id": "xX3rDMrS20lV"
      },
      "source": [
        "#change timeframe to 5minutes\r\n",
        "new_df = Change_Timeframe(df,\"5Min\")\r\n",
        "new_df[\"Date\"] = list(map(lambda x: str(x.date()),new_df.DateTime))\r\n",
        "new_df[\"Time\"] = list(map(lambda x: x.time(),new_df.DateTime))\r\n",
        "\r\n",
        "\r\n",
        "#change data type decimal to float\r\n",
        "new_df['Open_15'] = new_df['Open_15'].astype('float')\r\n",
        "new_df['High_15'] = new_df['High_15'].astype('float')\r\n",
        "new_df['Low_15'] = new_df['Low_15'].astype('float')\r\n",
        "new_df['Close_15'] = new_df['Close_15'].astype('float')\r\n",
        "\r\n",
        "#new_df.to_excel(\"sql_cash_data_5min.xlsx\")\r\n",
        "\r\n",
        "new_df = TrueRange(new_df)\r\n",
        "ATR_df = average_true_range(data = new_df, period=14, drop_tr=True, smoothing=\"SMA\")\r\n",
        "f=4\r\n",
        "n=15\r\n",
        "\r\n",
        "\r\n",
        "df = ATR_df.copy()\r\n",
        "#Calculation of SuperTrend\r\n",
        "df['Upper Basic']=(df['High_15']+df['Low_15'])/2+(f*df['atr_14_SMA'])\r\n",
        "df['Lower Basic']=(df['High_15']+df['Low_15'])/2-(f*df['atr_14_SMA'])\r\n",
        "df['Upper Band']=df['Upper Basic']\r\n",
        "df['Lower Band']=df['Lower Basic']\r\n",
        "for i in range(n,len(df)):\r\n",
        "  if df['Close_15'][i-1]<=df['Upper Band'][i-1]:\r\n",
        "    df['Upper Band'][i]=min(df['Upper Basic'][i],df['Upper Band'][i-1])\r\n",
        "  else:\r\n",
        "    df['Upper Band'][i]=df['Upper Basic'][i]    \r\n",
        "for i in range(n,len(df)):\r\n",
        "  if df['Close_15'][i-1]>=df['Lower Band'][i-1]:\r\n",
        "    df['Lower Band'][i]=max(df['Lower Basic'][i],df['Lower Band'][i-1])\r\n",
        "  else:\r\n",
        "    df['Lower Band'][i]=df['Lower Basic'][i]   \r\n",
        "    df['SuperTrend']=np.nan\r\n",
        "for i in df['SuperTrend']:\r\n",
        "  if df['Close_15'][n-1]<=df['Upper Band'][n-1]:\r\n",
        "    df['SuperTrend'][n-1]=df['Upper Band'][n-1]\r\n",
        "  elif df['Close_15'][n-1]>df['Upper Band'][i]:\r\n",
        "    df['SuperTrend'][n-1]=df['Lower Band'][n-1]\r\n",
        "for i in range(n,len(df)):\r\n",
        "  if df['SuperTrend'][i-1]==df['Upper Band'][i-1] and df['Close_15'][i]<=df['Upper Band'][i]:\r\n",
        "    df['SuperTrend'][i]=df['Upper Band'][i]\r\n",
        "  elif  df['SuperTrend'][i-1]==df['Upper Band'][i-1] and df['Close_15'][i]>=df['Upper Band'][i]:\r\n",
        "    df['SuperTrend'][i]=df['Lower Band'][i]\r\n",
        "  elif df['SuperTrend'][i-1]==df['Lower Band'][i-1] and df['Close_15'][i]>=df['Lower Band'][i]:\r\n",
        "    df['SuperTrend'][i]=df['Lower Band'][i]\r\n",
        "  elif df['SuperTrend'][i-1]==df['Lower Band'][i-1] and df['Close_15'][i]<=df['Lower Band'][i]:\r\n",
        "    df['SuperTrend'][i]=df['Upper Band'][i]\r\n",
        "  \r\n",
        "\r\n",
        "df1 = df[['DateTime', 'Date', 'Time', 'Open_15', 'High_15', 'Low_15', 'Close_15', 'SuperTrend']]\r\n",
        "df2 =df1.copy()\r\n",
        "\r\n",
        "\r\n",
        "#donchan channel 50 candles period\r\n",
        "k = 50\r\n",
        "df2['upper_channel'] = np.nan\r\n",
        "df2['lower_channel'] = np.nan\r\n",
        "df2['middle_channel'] = np.nan\r\n",
        "\r\n",
        "df2['upper_channel'] = df2['High_15'].rolling(k).max().shift(k-50)\r\n",
        "df2['lower_channel'] = df2['Low_15'].rolling(k).min().shift(k-50)\r\n",
        "df2['middle_channel'] = ((df2['upper_channel'] + df2['lower_channel'])/2)\r\n",
        "\r\n",
        "#df2.to_excel(\"super_trend_v1_1.xlsx\")\r\n",
        "\r\n",
        "#df2.to_excel(\"super_trend_v1_1.xlsx\")\r\n",
        "df21 = df2.copy()"
      ],
      "execution_count": 17,
      "outputs": []
    },
    {
      "cell_type": "code",
      "metadata": {
        "id": "wLHLG32-VD1I"
      },
      "source": [
        "n=0\r\n",
        "df3 = df2.dropna(axis=0, inplace=False)\r\n",
        "df3=df3.reset_index()\r\n",
        "#trade type \r\n",
        "df3['trade_type'] = np.nan\r\n",
        "#long position above supertrend and second candle break first candle high\r\n",
        "for i in range(n,len(df3)):\r\n",
        "  if df3['upper_channel'][i] <= df3['High_15'][i] and (df3.loc[i,\"Time\"]>=datetime.datetime.strptime('10:00:00', '%H:%M:%S').time()) & (df3.loc[i,\"Time\"]<datetime.datetime.strptime('14:45:00', '%H:%M:%S').time()):\r\n",
        "    df3['trade_type'][i]= 'long'\r\n",
        "#long position below supertrend and second candle break first candle low\r\n",
        "for i in range(n,len(df3)):\r\n",
        "  if df3['lower_channel'][i] >= df3['Low_15'][i] and (df3.loc[i,\"Time\"]>=datetime.datetime.strptime('10:00:00', '%H:%M:%S').time()) & (df3.loc[i,\"Time\"]<datetime.datetime.strptime('14:45:00', '%H:%M:%S').time()):\r\n",
        "    df3['trade_type'][i]= 'short'"
      ],
      "execution_count": 21,
      "outputs": []
    },
    {
      "cell_type": "code",
      "metadata": {
        "id": "jc7AM2lCVJQD"
      },
      "source": [
        "df4 = df3.dropna(axis=0, inplace=False)\r\n",
        "df4=df4.reset_index()\r\n",
        "df4 = df4.drop(['level_0', 'index'], axis=1)\r\n",
        "#df4['trade_type'].value_counts()"
      ],
      "execution_count": 23,
      "outputs": []
    },
    {
      "cell_type": "code",
      "metadata": {
        "colab": {
          "base_uri": "https://localhost:8080/",
          "height": 204
        },
        "id": "1sSflKW3VNp4",
        "outputId": "df092ac5-4401-463d-858c-7a241169d0b2"
      },
      "source": [
        "df4.tail()"
      ],
      "execution_count": 54,
      "outputs": [
        {
          "output_type": "execute_result",
          "data": {
            "text/html": [
              "<div>\n",
              "<style scoped>\n",
              "    .dataframe tbody tr th:only-of-type {\n",
              "        vertical-align: middle;\n",
              "    }\n",
              "\n",
              "    .dataframe tbody tr th {\n",
              "        vertical-align: top;\n",
              "    }\n",
              "\n",
              "    .dataframe thead th {\n",
              "        text-align: right;\n",
              "    }\n",
              "</style>\n",
              "<table border=\"1\" class=\"dataframe\">\n",
              "  <thead>\n",
              "    <tr style=\"text-align: right;\">\n",
              "      <th></th>\n",
              "      <th>DateTime</th>\n",
              "      <th>Date</th>\n",
              "      <th>Time</th>\n",
              "      <th>Open_15</th>\n",
              "      <th>High_15</th>\n",
              "      <th>Low_15</th>\n",
              "      <th>Close_15</th>\n",
              "      <th>SuperTrend</th>\n",
              "      <th>upper_channel</th>\n",
              "      <th>lower_channel</th>\n",
              "      <th>middle_channel</th>\n",
              "      <th>sell_signal</th>\n",
              "    </tr>\n",
              "  </thead>\n",
              "  <tbody>\n",
              "    <tr>\n",
              "      <th>67204</th>\n",
              "      <td>2019-10-30 14:20:00</td>\n",
              "      <td>2019-10-30</td>\n",
              "      <td>14:20:00</td>\n",
              "      <td>30021.55</td>\n",
              "      <td>30042.50</td>\n",
              "      <td>30011.05</td>\n",
              "      <td>30018.75</td>\n",
              "      <td>29951.995</td>\n",
              "      <td>30147.8</td>\n",
              "      <td>29944.7</td>\n",
              "      <td>30046.25</td>\n",
              "      <td>long_sale</td>\n",
              "    </tr>\n",
              "    <tr>\n",
              "      <th>67205</th>\n",
              "      <td>2019-10-30 14:25:00</td>\n",
              "      <td>2019-10-30</td>\n",
              "      <td>14:25:00</td>\n",
              "      <td>30002.90</td>\n",
              "      <td>30029.15</td>\n",
              "      <td>29990.70</td>\n",
              "      <td>30006.60</td>\n",
              "      <td>29951.995</td>\n",
              "      <td>30147.8</td>\n",
              "      <td>29944.7</td>\n",
              "      <td>30046.25</td>\n",
              "      <td>long_sale</td>\n",
              "    </tr>\n",
              "    <tr>\n",
              "      <th>67206</th>\n",
              "      <td>2019-10-30 14:30:00</td>\n",
              "      <td>2019-10-30</td>\n",
              "      <td>14:30:00</td>\n",
              "      <td>30008.00</td>\n",
              "      <td>30009.75</td>\n",
              "      <td>29946.15</td>\n",
              "      <td>29967.80</td>\n",
              "      <td>29951.995</td>\n",
              "      <td>30147.8</td>\n",
              "      <td>29944.7</td>\n",
              "      <td>30046.25</td>\n",
              "      <td>long_sale</td>\n",
              "    </tr>\n",
              "    <tr>\n",
              "      <th>67207</th>\n",
              "      <td>2019-10-30 14:35:00</td>\n",
              "      <td>2019-10-30</td>\n",
              "      <td>14:35:00</td>\n",
              "      <td>29969.80</td>\n",
              "      <td>29976.70</td>\n",
              "      <td>29931.80</td>\n",
              "      <td>29940.40</td>\n",
              "      <td>30154.290</td>\n",
              "      <td>30147.8</td>\n",
              "      <td>29931.8</td>\n",
              "      <td>30039.80</td>\n",
              "      <td>long_sale</td>\n",
              "    </tr>\n",
              "    <tr>\n",
              "      <th>67208</th>\n",
              "      <td>2019-10-30 14:40:00</td>\n",
              "      <td>2019-10-30</td>\n",
              "      <td>14:40:00</td>\n",
              "      <td>29941.65</td>\n",
              "      <td>30000.85</td>\n",
              "      <td>29917.20</td>\n",
              "      <td>30000.75</td>\n",
              "      <td>30154.290</td>\n",
              "      <td>30147.8</td>\n",
              "      <td>29917.2</td>\n",
              "      <td>30032.50</td>\n",
              "      <td>long_sale</td>\n",
              "    </tr>\n",
              "  </tbody>\n",
              "</table>\n",
              "</div>"
            ],
            "text/plain": [
              "                 DateTime        Date  ... middle_channel  sell_signal\n",
              "67204 2019-10-30 14:20:00  2019-10-30  ...       30046.25    long_sale\n",
              "67205 2019-10-30 14:25:00  2019-10-30  ...       30046.25    long_sale\n",
              "67206 2019-10-30 14:30:00  2019-10-30  ...       30046.25    long_sale\n",
              "67207 2019-10-30 14:35:00  2019-10-30  ...       30039.80    long_sale\n",
              "67208 2019-10-30 14:40:00  2019-10-30  ...       30032.50    long_sale\n",
              "\n",
              "[5 rows x 12 columns]"
            ]
          },
          "metadata": {
            "tags": []
          },
          "execution_count": 54
        }
      ]
    },
    {
      "cell_type": "code",
      "metadata": {
        "id": "TPTiN7YWX1fs"
      },
      "source": [
        "n=0\r\n",
        "df3 = df2.dropna(axis=0, inplace=False)\r\n",
        "df3=df3.reset_index()\r\n",
        "\r\n",
        "#trade signal \r\n",
        "df3['sell_signal'] = np.nan\r\n",
        "#long position above supertrend and second candle break first candle high\r\n",
        "for i in range(n,len(df3)):\r\n",
        "  if df3['middle_channel'][i] >= df3['Low_15'][i] and (df3.loc[i,\"Time\"]>=datetime.datetime.strptime('10:00:00', '%H:%M:%S').time()) & (df3.loc[i,\"Time\"]<datetime.datetime.strptime('14:45:00', '%H:%M:%S').time()):\r\n",
        "    df3['sell_signal'][i]= 'long_sale'\r\n",
        "#long position below supertrend and second candle break first candle low\r\n",
        "for i in range(n,len(df3)):\r\n",
        "  if df3['middle_channel'][i] <= df3['High_15'][i] and (df3.loc[i,\"Time\"]>=datetime.datetime.strptime('10:00:00', '%H:%M:%S').time()) & (df3.loc[i,\"Time\"]<datetime.datetime.strptime('14:45:00', '%H:%M:%S').time()):\r\n",
        "    df3['sell_signal'][i]= 'short_sale'"
      ],
      "execution_count": 44,
      "outputs": []
    },
    {
      "cell_type": "code",
      "metadata": {
        "id": "MP29US6hbWyG"
      },
      "source": [
        "df4 = df3.dropna(axis=0, inplace=False)\r\n",
        "df4=df4.reset_index()\r\n",
        "df4 = df4.drop(['level_0', 'index'], axis=1)\r\n",
        "#df4['trade_type'].value_counts()"
      ],
      "execution_count": 48,
      "outputs": []
    },
    {
      "cell_type": "code",
      "metadata": {
        "colab": {
          "base_uri": "https://localhost:8080/"
        },
        "id": "aAYNZ5c8ajod",
        "outputId": "8d0806dd-ff72-40b9-8b4e-ecf258a3572f"
      },
      "source": [
        "df4.info()"
      ],
      "execution_count": 49,
      "outputs": [
        {
          "output_type": "stream",
          "text": [
            "<class 'pandas.core.frame.DataFrame'>\n",
            "RangeIndex: 67209 entries, 0 to 67208\n",
            "Data columns (total 12 columns):\n",
            " #   Column          Non-Null Count  Dtype         \n",
            "---  ------          --------------  -----         \n",
            " 0   DateTime        67209 non-null  datetime64[ns]\n",
            " 1   Date            67209 non-null  object        \n",
            " 2   Time            67209 non-null  object        \n",
            " 3   Open_15         67209 non-null  float64       \n",
            " 4   High_15         67209 non-null  float64       \n",
            " 5   Low_15          67209 non-null  float64       \n",
            " 6   Close_15        67209 non-null  float64       \n",
            " 7   SuperTrend      67209 non-null  float64       \n",
            " 8   upper_channel   67209 non-null  float64       \n",
            " 9   lower_channel   67209 non-null  float64       \n",
            " 10  middle_channel  67209 non-null  float64       \n",
            " 11  sell_signal     67209 non-null  object        \n",
            "dtypes: datetime64[ns](1), float64(8), object(3)\n",
            "memory usage: 6.2+ MB\n"
          ],
          "name": "stdout"
        }
      ]
    },
    {
      "cell_type": "code",
      "metadata": {
        "colab": {
          "base_uri": "https://localhost:8080/"
        },
        "id": "xEo_SCsjansS",
        "outputId": "9c8b28f0-a3c7-46b8-991d-ee280985bd2e"
      },
      "source": [
        "df4['sell_signal'].value_counts()"
      ],
      "execution_count": 51,
      "outputs": [
        {
          "output_type": "execute_result",
          "data": {
            "text/plain": [
              "short_sale    39132\n",
              "long_sale     28077\n",
              "Name: sell_signal, dtype: int64"
            ]
          },
          "metadata": {
            "tags": []
          },
          "execution_count": 51
        }
      ]
    },
    {
      "cell_type": "code",
      "metadata": {
        "colab": {
          "base_uri": "https://localhost:8080/",
          "height": 204
        },
        "id": "ghf2LqqrcF89",
        "outputId": "08ac9dee-8a0b-45df-ccc5-47745078ece6"
      },
      "source": [
        "df2.tail()"
      ],
      "execution_count": 55,
      "outputs": [
        {
          "output_type": "execute_result",
          "data": {
            "text/html": [
              "<div>\n",
              "<style scoped>\n",
              "    .dataframe tbody tr th:only-of-type {\n",
              "        vertical-align: middle;\n",
              "    }\n",
              "\n",
              "    .dataframe tbody tr th {\n",
              "        vertical-align: top;\n",
              "    }\n",
              "\n",
              "    .dataframe thead th {\n",
              "        text-align: right;\n",
              "    }\n",
              "</style>\n",
              "<table border=\"1\" class=\"dataframe\">\n",
              "  <thead>\n",
              "    <tr style=\"text-align: right;\">\n",
              "      <th></th>\n",
              "      <th>DateTime</th>\n",
              "      <th>Date</th>\n",
              "      <th>Time</th>\n",
              "      <th>Open_15</th>\n",
              "      <th>High_15</th>\n",
              "      <th>Low_15</th>\n",
              "      <th>Close_15</th>\n",
              "      <th>SuperTrend</th>\n",
              "      <th>upper_channel</th>\n",
              "      <th>lower_channel</th>\n",
              "      <th>middle_channel</th>\n",
              "    </tr>\n",
              "  </thead>\n",
              "  <tbody>\n",
              "    <tr>\n",
              "      <th>88535</th>\n",
              "      <td>2019-10-30 14:55:00</td>\n",
              "      <td>2019-10-30</td>\n",
              "      <td>14:55:00</td>\n",
              "      <td>29990.25</td>\n",
              "      <td>30021.50</td>\n",
              "      <td>29989.05</td>\n",
              "      <td>30021.50</td>\n",
              "      <td>30154.290</td>\n",
              "      <td>30147.8</td>\n",
              "      <td>29917.2</td>\n",
              "      <td>30032.5</td>\n",
              "    </tr>\n",
              "    <tr>\n",
              "      <th>88536</th>\n",
              "      <td>2019-10-30 15:00:00</td>\n",
              "      <td>2019-10-30</td>\n",
              "      <td>15:00:00</td>\n",
              "      <td>30022.30</td>\n",
              "      <td>30023.55</td>\n",
              "      <td>29979.95</td>\n",
              "      <td>29982.20</td>\n",
              "      <td>30154.290</td>\n",
              "      <td>30147.8</td>\n",
              "      <td>29917.2</td>\n",
              "      <td>30032.5</td>\n",
              "    </tr>\n",
              "    <tr>\n",
              "      <th>88537</th>\n",
              "      <td>2019-10-30 15:05:00</td>\n",
              "      <td>2019-10-30</td>\n",
              "      <td>15:05:00</td>\n",
              "      <td>29978.65</td>\n",
              "      <td>29984.10</td>\n",
              "      <td>29962.30</td>\n",
              "      <td>29972.25</td>\n",
              "      <td>30143.960</td>\n",
              "      <td>30147.8</td>\n",
              "      <td>29917.2</td>\n",
              "      <td>30032.5</td>\n",
              "    </tr>\n",
              "    <tr>\n",
              "      <th>88538</th>\n",
              "      <td>2019-10-30 15:10:00</td>\n",
              "      <td>2019-10-30</td>\n",
              "      <td>15:10:00</td>\n",
              "      <td>29971.75</td>\n",
              "      <td>29987.75</td>\n",
              "      <td>29957.00</td>\n",
              "      <td>29986.90</td>\n",
              "      <td>30134.695</td>\n",
              "      <td>30147.8</td>\n",
              "      <td>29917.2</td>\n",
              "      <td>30032.5</td>\n",
              "    </tr>\n",
              "    <tr>\n",
              "      <th>88539</th>\n",
              "      <td>2019-10-30 15:15:00</td>\n",
              "      <td>2019-10-30</td>\n",
              "      <td>15:15:00</td>\n",
              "      <td>29989.40</td>\n",
              "      <td>29990.40</td>\n",
              "      <td>29957.20</td>\n",
              "      <td>29968.45</td>\n",
              "      <td>30134.695</td>\n",
              "      <td>30147.8</td>\n",
              "      <td>29917.2</td>\n",
              "      <td>30032.5</td>\n",
              "    </tr>\n",
              "  </tbody>\n",
              "</table>\n",
              "</div>"
            ],
            "text/plain": [
              "                 DateTime        Date  ... lower_channel  middle_channel\n",
              "88535 2019-10-30 14:55:00  2019-10-30  ...       29917.2         30032.5\n",
              "88536 2019-10-30 15:00:00  2019-10-30  ...       29917.2         30032.5\n",
              "88537 2019-10-30 15:05:00  2019-10-30  ...       29917.2         30032.5\n",
              "88538 2019-10-30 15:10:00  2019-10-30  ...       29917.2         30032.5\n",
              "88539 2019-10-30 15:15:00  2019-10-30  ...       29917.2         30032.5\n",
              "\n",
              "[5 rows x 11 columns]"
            ]
          },
          "metadata": {
            "tags": []
          },
          "execution_count": 55
        }
      ]
    },
    {
      "cell_type": "code",
      "metadata": {
        "colab": {
          "base_uri": "https://localhost:8080/",
          "height": 204
        },
        "id": "ApZCmHYhbEsW",
        "outputId": "d273e956-2fec-41b6-cf25-7fa6b23ad234"
      },
      "source": [
        "df4.tail()"
      ],
      "execution_count": 52,
      "outputs": [
        {
          "output_type": "execute_result",
          "data": {
            "text/html": [
              "<div>\n",
              "<style scoped>\n",
              "    .dataframe tbody tr th:only-of-type {\n",
              "        vertical-align: middle;\n",
              "    }\n",
              "\n",
              "    .dataframe tbody tr th {\n",
              "        vertical-align: top;\n",
              "    }\n",
              "\n",
              "    .dataframe thead th {\n",
              "        text-align: right;\n",
              "    }\n",
              "</style>\n",
              "<table border=\"1\" class=\"dataframe\">\n",
              "  <thead>\n",
              "    <tr style=\"text-align: right;\">\n",
              "      <th></th>\n",
              "      <th>DateTime</th>\n",
              "      <th>Date</th>\n",
              "      <th>Time</th>\n",
              "      <th>Open_15</th>\n",
              "      <th>High_15</th>\n",
              "      <th>Low_15</th>\n",
              "      <th>Close_15</th>\n",
              "      <th>SuperTrend</th>\n",
              "      <th>upper_channel</th>\n",
              "      <th>lower_channel</th>\n",
              "      <th>middle_channel</th>\n",
              "      <th>sell_signal</th>\n",
              "    </tr>\n",
              "  </thead>\n",
              "  <tbody>\n",
              "    <tr>\n",
              "      <th>67204</th>\n",
              "      <td>2019-10-30 14:20:00</td>\n",
              "      <td>2019-10-30</td>\n",
              "      <td>14:20:00</td>\n",
              "      <td>30021.55</td>\n",
              "      <td>30042.50</td>\n",
              "      <td>30011.05</td>\n",
              "      <td>30018.75</td>\n",
              "      <td>29951.995</td>\n",
              "      <td>30147.8</td>\n",
              "      <td>29944.7</td>\n",
              "      <td>30046.25</td>\n",
              "      <td>long_sale</td>\n",
              "    </tr>\n",
              "    <tr>\n",
              "      <th>67205</th>\n",
              "      <td>2019-10-30 14:25:00</td>\n",
              "      <td>2019-10-30</td>\n",
              "      <td>14:25:00</td>\n",
              "      <td>30002.90</td>\n",
              "      <td>30029.15</td>\n",
              "      <td>29990.70</td>\n",
              "      <td>30006.60</td>\n",
              "      <td>29951.995</td>\n",
              "      <td>30147.8</td>\n",
              "      <td>29944.7</td>\n",
              "      <td>30046.25</td>\n",
              "      <td>long_sale</td>\n",
              "    </tr>\n",
              "    <tr>\n",
              "      <th>67206</th>\n",
              "      <td>2019-10-30 14:30:00</td>\n",
              "      <td>2019-10-30</td>\n",
              "      <td>14:30:00</td>\n",
              "      <td>30008.00</td>\n",
              "      <td>30009.75</td>\n",
              "      <td>29946.15</td>\n",
              "      <td>29967.80</td>\n",
              "      <td>29951.995</td>\n",
              "      <td>30147.8</td>\n",
              "      <td>29944.7</td>\n",
              "      <td>30046.25</td>\n",
              "      <td>long_sale</td>\n",
              "    </tr>\n",
              "    <tr>\n",
              "      <th>67207</th>\n",
              "      <td>2019-10-30 14:35:00</td>\n",
              "      <td>2019-10-30</td>\n",
              "      <td>14:35:00</td>\n",
              "      <td>29969.80</td>\n",
              "      <td>29976.70</td>\n",
              "      <td>29931.80</td>\n",
              "      <td>29940.40</td>\n",
              "      <td>30154.290</td>\n",
              "      <td>30147.8</td>\n",
              "      <td>29931.8</td>\n",
              "      <td>30039.80</td>\n",
              "      <td>long_sale</td>\n",
              "    </tr>\n",
              "    <tr>\n",
              "      <th>67208</th>\n",
              "      <td>2019-10-30 14:40:00</td>\n",
              "      <td>2019-10-30</td>\n",
              "      <td>14:40:00</td>\n",
              "      <td>29941.65</td>\n",
              "      <td>30000.85</td>\n",
              "      <td>29917.20</td>\n",
              "      <td>30000.75</td>\n",
              "      <td>30154.290</td>\n",
              "      <td>30147.8</td>\n",
              "      <td>29917.2</td>\n",
              "      <td>30032.50</td>\n",
              "      <td>long_sale</td>\n",
              "    </tr>\n",
              "  </tbody>\n",
              "</table>\n",
              "</div>"
            ],
            "text/plain": [
              "                 DateTime        Date  ... middle_channel  sell_signal\n",
              "67204 2019-10-30 14:20:00  2019-10-30  ...       30046.25    long_sale\n",
              "67205 2019-10-30 14:25:00  2019-10-30  ...       30046.25    long_sale\n",
              "67206 2019-10-30 14:30:00  2019-10-30  ...       30046.25    long_sale\n",
              "67207 2019-10-30 14:35:00  2019-10-30  ...       30039.80    long_sale\n",
              "67208 2019-10-30 14:40:00  2019-10-30  ...       30032.50    long_sale\n",
              "\n",
              "[5 rows x 12 columns]"
            ]
          },
          "metadata": {
            "tags": []
          },
          "execution_count": 52
        }
      ]
    },
    {
      "cell_type": "code",
      "metadata": {
        "id": "n-XUuj6WbjY8"
      },
      "source": [
        "n=0\r\n",
        "df3 = df2.dropna(axis=0, inplace=False)\r\n",
        "df3=df3.reset_index()\r\n",
        "\r\n",
        "#trade signal \r\n",
        "df3['sell_signal'] = np.nan\r\n",
        "#long position above supertrend and second candle break first candle high\r\n",
        "for i in range(n,len(df3)):\r\n",
        "  if df3['middle_channel'][i] >= df3['Low_15'][i] or df3['SuperTrend'][i] >= df3['Low_15'][i] and (df3.loc[i,\"Time\"]>=datetime.datetime.strptime('10:00:00', '%H:%M:%S').time()) & (df3.loc[i,\"Time\"]<datetime.datetime.strptime('14:45:00', '%H:%M:%S').time()):\r\n",
        "    df3['sell_signal'][i]= 'long_sale'\r\n",
        "#long position below supertrend and second candle break first candle low\r\n",
        "for i in range(n,len(df3)):\r\n",
        "  if df3['middle_channel'][i] <= df3['High_15'][i] or df3['SuperTrend'][i] <= df3['Low_15'][i] and (df3.loc[i,\"Time\"]>=datetime.datetime.strptime('10:00:00', '%H:%M:%S').time()) & (df3.loc[i,\"Time\"]<datetime.datetime.strptime('14:45:00', '%H:%M:%S').time()):\r\n",
        "    df3['sell_signal'][i]= 'short_sale'"
      ],
      "execution_count": 57,
      "outputs": []
    },
    {
      "cell_type": "code",
      "metadata": {
        "id": "aFfAlUbBca7m"
      },
      "source": [
        "df4 = df3.dropna(axis=0, inplace=False)\r\n",
        "df4=df4.reset_index()\r\n",
        "df4 = df4.drop(['level_0', 'index'], axis=1)\r\n",
        "#df4['trade_type'].value_counts()"
      ],
      "execution_count": 58,
      "outputs": []
    },
    {
      "cell_type": "code",
      "metadata": {
        "colab": {
          "base_uri": "https://localhost:8080/"
        },
        "id": "_SFNOx68cnk6",
        "outputId": "1a321d95-6044-4e6f-aaeb-06292f372311"
      },
      "source": [
        "df4.info()"
      ],
      "execution_count": 59,
      "outputs": [
        {
          "output_type": "stream",
          "text": [
            "<class 'pandas.core.frame.DataFrame'>\n",
            "RangeIndex: 88491 entries, 0 to 88490\n",
            "Data columns (total 12 columns):\n",
            " #   Column          Non-Null Count  Dtype         \n",
            "---  ------          --------------  -----         \n",
            " 0   DateTime        88491 non-null  datetime64[ns]\n",
            " 1   Date            88491 non-null  object        \n",
            " 2   Time            88491 non-null  object        \n",
            " 3   Open_15         88491 non-null  float64       \n",
            " 4   High_15         88491 non-null  float64       \n",
            " 5   Low_15          88491 non-null  float64       \n",
            " 6   Close_15        88491 non-null  float64       \n",
            " 7   SuperTrend      88491 non-null  float64       \n",
            " 8   upper_channel   88491 non-null  float64       \n",
            " 9   lower_channel   88491 non-null  float64       \n",
            " 10  middle_channel  88491 non-null  float64       \n",
            " 11  sell_signal     88491 non-null  object        \n",
            "dtypes: datetime64[ns](1), float64(8), object(3)\n",
            "memory usage: 8.1+ MB\n"
          ],
          "name": "stdout"
        }
      ]
    },
    {
      "cell_type": "code",
      "metadata": {
        "id": "2qKmTEZfcpKQ"
      },
      "source": [
        ""
      ],
      "execution_count": null,
      "outputs": []
    }
  ]
}